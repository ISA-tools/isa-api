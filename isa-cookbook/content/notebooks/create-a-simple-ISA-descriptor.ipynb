{
 "cells": [
  {
   "cell_type": "markdown",
   "metadata": {},
   "source": [
    "# Create a simple ISA descriptor\n",
    "\n",
    "This example creates minimal metadata for a single study ISA descriptor with no assay declared. \n",
    "\n",
    "It shows how to serialize (write) the ISA Model content to ISA-Tab and ISA-JSON formats."
   ]
  },
  {
   "cell_type": "code",
   "execution_count": null,
   "metadata": {},
   "outputs": [],
   "source": [
    "# If executing the notebooks on `Google Colab`,uncomment the following command \n",
    "# and run it to install the required python libraries. Also, make the test datasets available.\n",
    "\n",
    "# !pip install -r requirements.txt"
   ]
  },
  {
   "cell_type": "markdown",
   "metadata": {},
   "source": [
    "## Let's get ready and import all the necessary components"
   ]
  },
  {
   "cell_type": "code",
   "execution_count": null,
   "metadata": {},
   "outputs": [],
   "source": [
    "from isatools.model import *\n",
    "import datetime"
   ]
  },
  {
   "cell_type": "markdown",
   "metadata": {},
   "source": [
    "## 1. Declaring key ISA objects: Investigation, Study, Protocols, Ontologies, Contacts  metadata"
   ]
  },
  {
   "cell_type": "code",
   "execution_count": null,
   "metadata": {},
   "outputs": [],
   "source": [
    "# Creating the Investigation object \n",
    "\n",
    "investigation = Investigation()\n",
    "investigation.identifier = \"i1\"\n",
    "investigation.title = \"My Simple ISA Investigation\"\n",
    "investigation.description = \"We could alternatively use the class constructor's parameters to set some default \" \\\n",
    "                                \"values at the time of creation, however we want to demonstrate how to use the \" \\\n",
    "                                \"object's instance variables to set values.\"\n",
    "investigation.submission_date = \"2016-11-03\"\n",
    "investigation.public_release_date = \"2016-11-03\"\n",
    "\n",
    "\n",
    "# Create an Study object and set some values. The Study must have a filename, otherwise when we serialize it\n",
    "# to ISA-Tab we would not know where to write it. We must also attach the study to the investigation by adding it\n",
    "# to the 'investigation' object's list of studies.\n",
    "\n",
    "study = Study(filename=\"s_study.txt\")\n",
    "study.identifier = \"s1\"\n",
    "study.title = \"My ISA Study\"\n",
    "study.description = \"Like with the Investigation, we could use the class constructor to set some default values, \" \\\n",
    "                    \"but have chosen to demonstrate in this example the use of instance variables to set initial \" \\\n",
    "                    \"values.\"\n",
    "study.submission_date = \"2016-11-03\"\n",
    "study.public_release_date = \"2016-11-03\"\n",
    "\n",
    "investigation.studies.append(study)"
   ]
  },
  {
   "cell_type": "markdown",
   "metadata": {},
   "source": [
    "### 1.1 Declaring and using `Ontology Resources`:"
   ]
  },
  {
   "cell_type": "code",
   "execution_count": null,
   "metadata": {},
   "outputs": [],
   "source": [
    "# Declaration of Ontology Resources used to annotation the ISA objects\n",
    "\n",
    "obi = OntologySource(name='OBI', description=\"Ontology for Biomedical Investigations\")\n",
    "investigation.ontology_source_references.append(obi)"
   ]
  },
  {
   "cell_type": "code",
   "execution_count": null,
   "metadata": {},
   "outputs": [],
   "source": [
    "# Some instance variables are typed with different objects and lists of objects. For example, a Study can have a\n",
    "# list of design descriptors. A design descriptor is an Ontology Annotation describing the kind of study at hand.\n",
    "# Ontology Annotations should typically reference an Ontology Source. We demonstrate a mix of using the class\n",
    "# constructors and setting values with instance variables. Note that the OntologyAnnotation object\n",
    "# 'intervention_design' links its 'term_source' directly to the 'obi' object instance. To ensure the OntologySource\n",
    "# is encapsulated in the descriptor, it is added to a list of 'ontology_source_references' in the Investigation\n",
    "# object. The 'intervention_design' object is then added to the list of 'design_descriptors' held by the Study\n",
    "# object.\n",
    "\n",
    "\n",
    "intervention_design = OntologyAnnotation(term_source=obi)\n",
    "intervention_design.term = \"intervention design\"\n",
    "intervention_design.term_accession = \"http://purl.obolibrary.org/obo/OBI_0000115\"\n",
    "study.design_descriptors.append(intervention_design)\n"
   ]
  },
  {
   "cell_type": "markdown",
   "metadata": {},
   "source": [
    "### 1.2. Declaring Contacts and Publications"
   ]
  },
  {
   "cell_type": "code",
   "execution_count": null,
   "metadata": {},
   "outputs": [],
   "source": [
    "# Other instance variables common to both Investigation and Study objects include 'contacts' and 'publications',\n",
    "# each with lists of corresponding Person and Publication objects.\n",
    "\n",
    "contact = Person(first_name=\"Alice\", last_name=\"Robertson\", affiliation=\"University of Life\", roles=[OntologyAnnotation(term='submitter')])\n",
    "study.contacts.append(contact)\n",
    "publication = Publication(title=\"Experiments with Elephants\", author_list=\"A. Robertson, B. Robertson\")\n",
    "publication.pubmed_id = \"12345678\"\n",
    "publication.status = OntologyAnnotation(term=\"published\")\n",
    "study.publications.append(publication)"
   ]
  },
  {
   "cell_type": "markdown",
   "metadata": {},
   "source": [
    "## 2. Building the ISA biomaterial creation graph"
   ]
  },
  {
   "cell_type": "code",
   "execution_count": null,
   "metadata": {},
   "outputs": [],
   "source": [
    "# To create the study graph that corresponds to the contents of the study table file (the s_*.txt file), we need\n",
    "# to create a process sequence. To do this we use the Process class and attach it to the Study object's\n",
    "# 'process_sequence' list instance variable. Each process must be linked with a Protocol object that is attached to\n",
    "# a Study object's 'protocols' list instance variable. The sample collection Process object usually has as input\n",
    "# a Source material and as output a Sample material.\n",
    "\n",
    "# Here we create one Source material object and attach it to our study.\n",
    "\n",
    "source = Source(name='source_material')\n",
    "study.sources.append(source)\n",
    "\n",
    "# Then we create three Sample objects, with organism as Homo Sapiens, and attach them to the study. We use the utility function\n",
    "# batch_create_material() to clone a prototype material object. The function automatiaclly appends\n",
    "# an index to the material name. In this case, three samples will be created, with the names\n",
    "# 'sample_material-0', 'sample_material-1' and 'sample_material-2'.\n",
    "\n",
    "prototype_sample = Sample(name='sample_material', derives_from=[source])\n",
    "\n",
    "ncbitaxon = OntologySource(name='NCBITaxon', description=\"NCBI Taxonomy\")\n",
    "investigation.ontology_source_references.append(ncbitaxon) # remember to add the newly declared ontology source to the parent investigation\n",
    "\n",
    "characteristic_organism = Characteristic(category=OntologyAnnotation(term=\"Organism\"),\n",
    "                                 value=OntologyAnnotation(term=\"Homo Sapiens\", term_source=ncbitaxon,\n",
    "                                                          term_accession=\"http://purl.bioontology.org/ontology/NCBITAXON/9606\"))\n",
    "prototype_sample.characteristics.append(characteristic_organism)\n",
    "\n",
    "study.samples = batch_create_materials(prototype_sample, n=3)  # creates a batch of 3 samples\n",
    "\n",
    "# Now we create a single Protocol object that represents our sample collection protocol, and attach it to the\n",
    "# study object. Protocols must be declared before we describe Processes, as a processing event of some sort\n",
    "# must execute some defined protocol. In the case of the class model, Protocols should therefore be declared\n",
    "# before Processes in order for the Process to be linked to one.\n",
    "\n",
    "sample_collection_protocol = Protocol(name=\"sample collection\",\n",
    "                                      protocol_type=OntologyAnnotation(term=\"sample collection\"))\n",
    "study.protocols.append(sample_collection_protocol)\n",
    "sample_collection_process = Process(executes_protocol=sample_collection_protocol)\n",
    "\n",
    "# Next, we link our materials to the Process. In this particular case, we are describing a sample collection\n",
    "# process that takes one source material, and produces three different samples.\n",
    "#\n",
    "# (source_material)->(sample collection)->[(sample_material-0), (sample_material-1), (sample_material-2)]\n",
    "\n",
    "for src in study.sources:\n",
    "    sample_collection_process.inputs.append(src)\n",
    "for sam in study.samples:\n",
    "    sample_collection_process.outputs.append(sam)\n",
    "\n",
    "# Finally, attach the finished Process object to the study process_sequence. This can be done many times to\n",
    "# describe multiple sample collection events.\n",
    "\n",
    "study.process_sequence.append(sample_collection_process)\n",
    "\n",
    "\n",
    "\n",
    "#IMPORTANT: remember to list all Characteristics used in the study object: do as follows:\n",
    "study.characteristic_categories.append(characteristic_organism.category)\n"
   ]
  },
  {
   "cell_type": "markdown",
   "metadata": {},
   "source": [
    "## 3. Creating an ISA Assay with all associated objects"
   ]
  },
  {
   "cell_type": "code",
   "execution_count": null,
   "metadata": {},
   "outputs": [],
   "source": [
    "# Next, we build n Assay object and attach two protocols, extraction and sequencing.\n",
    "\n",
    "assay = Assay(filename=\"a_assay.txt\")\n",
    "\n",
    "\n",
    "extraction_protocol = Protocol(name='extraction', protocol_type=OntologyAnnotation(term=\"material extraction\"))\n",
    "study.protocols.append(extraction_protocol)\n",
    "sequencing_protocol = Protocol(name='sequencing', protocol_type=OntologyAnnotation(term=\"nucleic acid sequencing\"))\n",
    "study.protocols.append(sequencing_protocol)\n",
    "\n",
    "# To build out assay graphs, we enumereate the samples from the study-level, and for each sample we create an\n",
    "# extraction process and a sequencing process. The extraction process takes as input a sample material, and produces\n",
    "# an extract material. The sequencing process takes the extract material and produces a data file. This will\n",
    "# produce three graphs, from sample material through to data, as follows:\n",
    "#\n",
    "# (sample_material-0)->(extraction)->(extract-0)->(sequencing)->(sequenced-data-0)\n",
    "# (sample_material-1)->(extraction)->(extract-1)->(sequencing)->(sequenced-data-1)\n",
    "# (sample_material-2)->(extraction)->(extract-2)->(sequencing)->(sequenced-data-2)\n",
    "#\n",
    "# Note that the extraction processes and sequencing processes are distinctly separate instances, where the three\n",
    "# graphs are NOT interconnected.\n",
    "\n",
    "for i, sample in enumerate(study.samples):\n",
    "\n",
    "    # create an extraction process that executes the extraction protocol\n",
    "\n",
    "    extraction_process = Process(executes_protocol=extraction_protocol)\n",
    "\n",
    "    # extraction process takes as input a sample, and produces an extract material as output\n",
    "\n",
    "    extraction_process.inputs.append(sample)\n",
    "    material = Material(name=\"extract-{}\".format(i))\n",
    "    material.type = \"Extract Name\"\n",
    "    extraction_process.outputs.append(material)\n",
    "\n",
    "    # create a sequencing process that executes the sequencing protocol\n",
    "\n",
    "    sequencing_process = Process(executes_protocol=sequencing_protocol)\n",
    "    sequencing_process.name = \"assay-name-{}\".format(i)\n",
    "    sequencing_process.inputs.append(extraction_process.outputs[0])\n",
    "\n",
    "    # Sequencing process usually has an output data file\n",
    "\n",
    "    datafile = DataFile(filename=\"sequenced-data-{}\".format(i), label=\"Raw Data File\")\n",
    "    sequencing_process.outputs.append(datafile)\n",
    "\n",
    "    # Ensure Processes are linked forward and backward. plink(from_process, to_process) is a function to set\n",
    "    # these links for you. It is found in the isatools.model package\n",
    "\n",
    "    plink(extraction_process, sequencing_process)\n",
    "\n",
    "    # make sure the extract, data file, and the processes are attached to the assay\n",
    "\n",
    "    assay.data_files.append(datafile)\n",
    "    assay.samples.append(sample)\n",
    "    assay.other_material.append(material)\n",
    "    assay.process_sequence.append(extraction_process)\n",
    "    assay.process_sequence.append(sequencing_process)\n",
    "    assay.measurement_type = OntologyAnnotation(term=\"gene sequencing\")\n",
    "    assay.technology_type = OntologyAnnotation(term=\"nucleotide sequencing\")\n"
   ]
  },
  {
   "cell_type": "markdown",
   "metadata": {},
   "source": [
    "Finally, we attach the assay to the study."
   ]
  },
  {
   "cell_type": "code",
   "execution_count": null,
   "metadata": {},
   "outputs": [],
   "source": [
    "study.assays.append(assay)"
   ]
  },
  {
   "cell_type": "markdown",
   "metadata": {},
   "source": [
    "## 4. Writing to ISA-Tab using `isatab.dumps()` function:"
   ]
  },
  {
   "cell_type": "code",
   "execution_count": null,
   "metadata": {},
   "outputs": [],
   "source": [
    "from isatools.isatab import dumps\n",
    "print(dumps(investigation))"
   ]
  },
  {
   "cell_type": "markdown",
   "metadata": {},
   "source": [
    "## 5. Writing to ISA-JSON using `isajson` component"
   ]
  },
  {
   "cell_type": "code",
   "execution_count": null,
   "metadata": {},
   "outputs": [],
   "source": [
    "import json\n",
    "from isatools.isajson import ISAJSONEncoder\n",
    "print(json.dumps(investigation, cls=ISAJSONEncoder, sort_keys=True, indent=4, separators=(',', ': ')))"
   ]
  },
  {
   "cell_type": "markdown",
   "metadata": {},
   "source": [
    "## About this notebook\n",
    "\n",
    "- authors: philippe.rocca-serra@oerc.ox.ac.uk, massimiliano.izzo@oerc.ox.ac.uk\n",
    "- license: CC-BY 4.0\n",
    "- support: isatools@googlegroups.com\n",
    "- issue tracker: https://github.com/ISA-tools/isa-api/issues"
   ]
  }
 ],
 "metadata": {
  "kernelspec": {
   "display_name": "isa-api-py39",
   "language": "python",
   "name": "isa-api-py39"
  },
  "language_info": {
   "codemirror_mode": {
    "name": "ipython",
    "version": 3
   },
   "file_extension": ".py",
   "mimetype": "text/x-python",
   "name": "python",
   "nbconvert_exporter": "python",
   "pygments_lexer": "ipython3",
   "version": "3.9.0"
  }
 },
 "nbformat": 4,
 "nbformat_minor": 1
}
