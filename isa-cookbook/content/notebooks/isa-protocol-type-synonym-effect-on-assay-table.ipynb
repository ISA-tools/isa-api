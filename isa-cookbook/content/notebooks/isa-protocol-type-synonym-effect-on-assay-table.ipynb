{
 "cells": [
  {
   "cell_type": "markdown",
   "metadata": {},
   "source": [
    "# ISA-API built-in semantic requirements for `protocol type` values\n",
    "\n",
    "## Abstract:\n",
    "\n",
    "In this notebook, we document the consequences of not using the right `protocol type` value in the context of specific ISA assays.\n",
    "\n",
    "It is therefore important that developers and users of the ISA-API be aware of the defautl ISA configuration and the list of protocol types used in the assay workflow associated with a given ISA Assay type, which is defined by a combination of `Measurement Type` and `Technology Type`.\n",
    "\n",
    "We have documented the full list of protocol types in the following document [link to document](https://www.todo.org)\n"
   ]
  },
  {
   "cell_type": "markdown",
   "metadata": {},
   "source": [
    "## Let's get the tools"
   ]
  },
  {
   "cell_type": "code",
   "execution_count": null,
   "metadata": {},
   "outputs": [],
   "source": [
    "# If executing the notebooks on `Google Colab`,uncomment the following command \n",
    "# and run it to install the required python libraries. Also, make the test datasets available.\n",
    "\n",
    "# !pip install -r requirements.txt"
   ]
  },
  {
   "cell_type": "code",
   "execution_count": null,
   "metadata": {},
   "outputs": [],
   "source": [
    "import os\n",
    "import isatools\n",
    "from isatools import isatab\n",
    "\n",
    "from isatools.model import (\n",
    "    Investigation,\n",
    "    Study,\n",
    "    OntologySource,\n",
    "    OntologyAnnotation,\n",
    "    Person,\n",
    "    Publication,\n",
    "    Source,\n",
    "    Sample,\n",
    "    Characteristic,\n",
    "    Protocol,\n",
    "    Process,\n",
    "    Assay,\n",
    "    Material,\n",
    "    DataFile,\n",
    "    batch_create_materials,\n",
    "    plink\n",
    ")\n",
    "import json\n",
    "from isatools.isajson import ISAJSONEncoder\n",
    "from isatools.isatab import dump_tables_to_dataframes"
   ]
  },
  {
   "cell_type": "markdown",
   "metadata": {},
   "source": [
    "## 1. Create an empty Investigation object and set some values to the instance variables."
   ]
  },
  {
   "cell_type": "code",
   "execution_count": null,
   "metadata": {},
   "outputs": [],
   "source": [
    "investigation = Investigation()\n",
    "# investigation.identifier = \"i1\"\n",
    "# investigation.title = \"My Simple ISA Investigation\"\n",
    "# investigation.description = \"We could alternatively use the class constructor's parameters to set some default \" \\\n",
    "#                             \"values at the time of creation, however we want to demonstrate how to use the \" \\\n",
    "#                             \"object's instance variables to set values.\"\n",
    "# investigation.submission_date = \"2016-11-03\"\n",
    "# investigation.public_release_date = \"201611-03\"\n",
    "\n",
    "# Create an empty Study object and set some values. The Study must have a filename, otherwise when we serialize it\n",
    "# to ISA-Tab we would not know where to write it. We must also attach the study to the investigation by adding it\n",
    "# to the 'investigation' object's list of studies.\n",
    "\n",
    "study = Study(filename=\"s_study.txt\")\n",
    "study.identifier = \"s1\"\n",
    "study.title = \"My ISA Study\"\n",
    "study.description = \"Like with the Investigation, we could use the class constructor to set some default values, \" \\\n",
    "                    \"but have chosen to demonstrate in this example the use of instance variables to set initial \" \\\n",
    "                    \"values.\"\n",
    "study.submission_date = \"2016-11-03\"\n",
    "study.public_release_date = \"2016-11-03\"\n",
    "investigation.studies.append(study)\n",
    "\n",
    "# Some instance variables are typed with different objects and lists of objects. For example, a Study can have a\n",
    "# list of design descriptors. A design descriptor is an Ontology Annotation describing the kind of study at hand.\n",
    "# Ontology Annotations should typically reference an Ontology Source. We demonstrate a mix of using the class\n",
    "# constructors and setting values with instance variables. Note that the OntologyAnnotation object\n",
    "# 'intervention_design' links its 'term_source' directly to the 'obi' object instance. To ensure the OntologySource\n",
    "# is encapsulated in the descriptor, it is added to a list of 'ontology_source_references' in the Investigation\n",
    "# object. The 'intervention_design' object is then added to the list of 'design_descriptors' held by the Study\n",
    "# object.\n",
    "\n",
    "obi = OntologySource(name='OBI', description=\"Ontology for Biomedical Investigations\")\n",
    "investigation.ontology_source_references.append(obi)\n",
    "intervention_design = OntologyAnnotation(term_source=obi)\n",
    "intervention_design.term = \"intervention design\"\n",
    "intervention_design.term_accession = \"http://purl.obolibrary.org/obo/OBI_0000115\"\n",
    "study.design_descriptors.append(intervention_design)\n",
    "\n",
    "# Other instance variables common to both Investigation and Study objects include 'contacts' and 'publications',\n",
    "# each with lists of corresponding Person and Publication objects.\n",
    "\n",
    "contact = Person(first_name=\"Alice\", last_name=\"Robertson\", affiliation=\"University of Life\", roles=[OntologyAnnotation(term='submitter')])\n",
    "study.contacts.append(contact)\n",
    "publication = Publication(title=\"Experiments with Elephants\", author_list=\"A. Robertson, B. Robertson\")\n",
    "publication.pubmed_id = \"12345678\"\n",
    "publication.doi = \"10.1038/sdata.2016.18\" #https://doi.org/10.144534/rmh0000008\"\n",
    "publication.status = OntologyAnnotation(term=\"published\")\n",
    "study.publications.append(publication)"
   ]
  },
  {
   "cell_type": "markdown",
   "metadata": {},
   "source": [
    "## 2. Create the ISA Study graph"
   ]
  },
  {
   "cell_type": "code",
   "execution_count": null,
   "metadata": {},
   "outputs": [],
   "source": [
    "# To create the study graph that corresponds to the contents of the study table file (the s_*.txt file), we need\n",
    "# to create a process sequence. To do this we use the Process class and attach it to the Study object's\n",
    "# 'process_sequence' list instance variable. Each process must be linked with a Protocol object that is attached to\n",
    "# a Study object's 'protocols' list instance variable. The sample collection Process object usually has as input\n",
    "# a Source material and as output a Sample material.\n",
    "\n",
    "# Here we create one Source material object and attach it to our study.\n",
    "\n",
    "source = Source(name='source_material')\n",
    "study.sources.append(source)\n",
    "\n",
    "# Then we create three Sample objects, with organism as Homo Sapiens, and attach them to the study. We use the utility function\n",
    "# batch_create_material() to clone a prototype material object. The function automatiaclly appends\n",
    "# an index to the material name. In this case, three samples will be created, with the names\n",
    "# 'sample_material-0', 'sample_material-1' and 'sample_material-2'.\n",
    "\n",
    "prototype_sample = Sample(name='sample_material', derives_from=(source,))\n",
    "ncbitaxon = OntologySource(name='NCBITaxon', description=\"NCBI Taxonomy\")\n",
    "characteristic_organism = Characteristic(category=OntologyAnnotation(term=\"Organism\"),\n",
    "                                 value=OntologyAnnotation(term=\"Homo Sapiens\", term_source=ncbitaxon,\n",
    "                                                          term_accession=\"http://purl.bioontology.org/ontology/NCBITAXON/9606\"))\n",
    "prototype_sample.characteristics.append(characteristic_organism)\n",
    "\n",
    "study.samples = batch_create_materials(prototype_sample, n=3)  # creates a batch of 3 samples"
   ]
  },
  {
   "cell_type": "markdown",
   "metadata": {},
   "source": [
    "Now we create a single Protocol object that represents our sample collection protocol, and attach it to the\n",
    "study object. Protocols must be declared before we describe Processes, as a processing event of some sort\n",
    "must execute some defined protocol. In the case of the class model, Protocols should therefore be declared\n",
    "before Processes in order for the Process to be linked to one."
   ]
  },
  {
   "cell_type": "code",
   "execution_count": null,
   "metadata": {},
   "outputs": [],
   "source": [
    "sample_collection_protocol = Protocol(name=\"sample collection\",\n",
    "                                      protocol_type=OntologyAnnotation(term=\"sample collection\"))\n",
    "study.protocols.append(sample_collection_protocol)\n",
    "sample_collection_process = Process(executes_protocol=sample_collection_protocol)"
   ]
  },
  {
   "cell_type": "markdown",
   "metadata": {},
   "source": [
    "Next, we link our materials to the Process. In this particular case, we are describing a sample collection\n",
    "process that takes one source material, and produces three different samples.\n",
    "\n",
    "(source_material)->(sample collection)->[(sample_material-0), (sample_material-1), (sample_material-2)]"
   ]
  },
  {
   "cell_type": "code",
   "execution_count": null,
   "metadata": {},
   "outputs": [],
   "source": [
    "for src in study.sources:\n",
    "    sample_collection_process.inputs.append(src)\n",
    "for sam in study.samples:\n",
    "    sample_collection_process.outputs.append(sam)\n"
   ]
  },
  {
   "cell_type": "markdown",
   "metadata": {},
   "source": [
    "Finally, attach the finished Process object to the study process_sequence. This can be done many times to describe multiple sample collection events."
   ]
  },
  {
   "cell_type": "code",
   "execution_count": null,
   "metadata": {},
   "outputs": [],
   "source": [
    "study.process_sequence.append(sample_collection_process)"
   ]
  },
  {
   "cell_type": "markdown",
   "metadata": {},
   "source": [
    "## 3. Building an Assay object and attach two protocols, extraction and sequencing."
   ]
  },
  {
   "cell_type": "code",
   "execution_count": null,
   "metadata": {},
   "outputs": [],
   "source": [
    "# Next, we build n Assay object and attach two protocols, extraction and sequencing.\n",
    "\n",
    "assay = Assay(filename=\"a_assay.txt\")\n",
    "\n",
    "extraction_protocol = Protocol(name='extraction', protocol_type=OntologyAnnotation(term=\"material extraction\"))\n",
    "study.protocols.append(extraction_protocol)\n",
    "\n",
    "sequencing_protocol = Protocol(name='sequencing', protocol_type=OntologyAnnotation(term=\"material sequencing\"))\n",
    "study.protocols.append(sequencing_protocol)\n",
    "\n",
    "# To build out assay graphs, we enumereate the samples from the study-level, and for each sample we create an\n",
    "# extraction process and a sequencing process. The extraction process takes as input a sample material, and produces\n",
    "# an extract material. The sequencing process takes the extract material and produces a data file. This will\n",
    "# produce three graphs, from sample material through to data, as follows:\n",
    "#\n",
    "# (sample_material-0)->(extraction)->(extract-0)->(sequencing)->(sequenced-data-0)\n",
    "# (sample_material-1)->(extraction)->(extract-1)->(sequencing)->(sequenced-data-1)\n",
    "# (sample_material-2)->(extraction)->(extract-2)->(sequencing)->(sequenced-data-2)\n",
    "#\n",
    "# Note that the extraction processes and sequencing processes are distinctly separate instances, where the three\n",
    "# graphs are NOT interconnected.\n",
    "\n",
    "for i, sample in enumerate(study.samples):\n",
    "\n",
    "    # create an extraction process that executes the extraction protocol\n",
    "\n",
    "    extraction_process = Process(executes_protocol=extraction_protocol)\n",
    "\n",
    "    # extraction process takes as input a sample, and produces an extract material as output\n",
    "\n",
    "    extraction_process.inputs.append(sample)\n",
    "    material = Material(name=\"extract-{}\".format(i))\n",
    "    material.type = \"Extract Name\"\n",
    "    extraction_process.outputs.append(material)\n",
    "\n",
    "    # create a sequencing process that executes the sequencing protocol\n",
    "\n",
    "    sequencing_process = Process(executes_protocol=sequencing_protocol)\n",
    "    sequencing_process.name = \"assay-name-{}\".format(i)\n",
    "    sequencing_process.inputs.append(extraction_process.outputs[0])\n",
    "\n",
    "    # Sequencing process usually has an output data file\n",
    "\n",
    "    datafile = DataFile(filename=\"sequenced-data-{}\".format(i), label=\"Raw Data File\")\n",
    "    sequencing_process.outputs.append(datafile)\n",
    "\n",
    "    # Ensure Processes are linked forward and backward. plink(from_process, to_process) is a function to set\n",
    "    # these links for you. It is found in the isatools.model package\n",
    "\n",
    "    plink(extraction_process, sequencing_process)\n",
    "\n",
    "    # make sure the extract, data file, and the processes are attached to the assay\n",
    "\n",
    "    assay.data_files.append(datafile)\n",
    "    assay.samples.append(sample)\n",
    "    assay.other_material.append(material)\n",
    "    assay.process_sequence.append(extraction_process)\n",
    "    assay.process_sequence.append(sequencing_process)\n",
    "    assay.measurement_type = OntologyAnnotation(term=\"genome sequencing\")\n",
    "    assay.technology_type = OntologyAnnotation(term=\"nucleotide sequencing\")"
   ]
  },
  {
   "cell_type": "markdown",
   "metadata": {},
   "source": [
    "We start by creation an ISA Assay Object and declaring the two protocols required by the workflow."
   ]
  },
  {
   "cell_type": "code",
   "execution_count": null,
   "metadata": {},
   "outputs": [],
   "source": [
    "assay_1 = Assay(filename=\"a_assay_1.txt\")\n",
    "\n",
    "extraction_protocol = Protocol(name='extraction', protocol_type=OntologyAnnotation(term=\"material extraction\"))\n",
    "study.protocols.append(extraction_protocol)\n",
    "\n",
    "sequencing_protocol_1 = Protocol(name='sequencing_1', protocol_type=OntologyAnnotation(term=\"nucleic acid sequencing\"))\n",
    "study.protocols.append(sequencing_protocol_1)"
   ]
  },
  {
   "cell_type": "markdown",
   "metadata": {},
   "source": [
    "To build out assay graphs, we enumereate the samples from the study-level, and for each sample we create an\n",
    "extraction process and a sequencing process. The extraction process takes as input a sample material, and produces\n",
    "an extract material. The sequencing process takes the extract material and produces a data file. This will\n",
    "produce three graphs, from sample material through to data, as follows:\n",
    "\n",
    "`(sample_material-0)->(extraction)->(extract-0)->(sequencing)->(sequenced-data-0)`\n",
    "\n",
    "`(sample_material-1)->(extraction)->(extract-1)->(sequencing)->(sequenced-data-1)`\n",
    "\n",
    "`(sample_material-2)->(extraction)->(extract-2)->(sequencing)->(sequenced-data-2)`\n",
    "\n",
    ":warning: \n",
    "Note that the extraction processes and sequencing processes are distinctly separate instances, where the three\n",
    "graphs are NOT interconnected."
   ]
  },
  {
   "cell_type": "code",
   "execution_count": null,
   "metadata": {},
   "outputs": [],
   "source": [
    "for i, sample in enumerate(study.samples):\n",
    "\n",
    "    # create an extraction process that executes the extraction protocol\n",
    "\n",
    "    extraction_process = Process(executes_protocol=extraction_protocol)\n",
    "\n",
    "    # extraction process takes as input a sample, and produces an extract material as output\n",
    "\n",
    "    extraction_process.inputs.append(sample)\n",
    "    material = Material(name=\"extract-{}\".format(i))\n",
    "    material.type = \"Extract Name\"\n",
    "    extraction_process.outputs.append(material)\n",
    "\n",
    "    # create a sequencing process that executes the sequencing protocol\n",
    "\n",
    "    sequencing_process = Process(executes_protocol=sequencing_protocol_1)\n",
    "    sequencing_process.name = \"assay-name-{}\".format(i)\n",
    "    sequencing_process.inputs.append(extraction_process.outputs[0])\n",
    "\n",
    "    # Sequencing process usually has an output data file\n",
    "\n",
    "    datafile = DataFile(filename=\"sequenced-data-{}\".format(i), label=\"Raw Data File\")\n",
    "    sequencing_process.outputs.append(datafile)\n",
    "\n",
    "    # Ensure Processes are linked forward and backward. plink(from_process, to_process) is a function to set\n",
    "    # these links for you. It is found in the isatools.model package\n",
    "\n",
    "    plink(extraction_process, sequencing_process)\n",
    "\n",
    "    # make sure the extract, data file, and the processes are attached to the assay\n",
    "\n",
    "    assay_1.data_files.append(datafile)\n",
    "    assay_1.samples.append(sample)\n",
    "    assay_1.other_material.append(material)\n",
    "    assay_1.process_sequence.append(extraction_process)\n",
    "    assay_1.process_sequence.append(sequencing_process)\n",
    "    assay_1.measurement_type = OntologyAnnotation(term=\"genome sequencing\")\n",
    "    assay_1.technology_type = OntologyAnnotation(term=\"nucleotide sequencing\")"
   ]
  },
  {
   "cell_type": "code",
   "execution_count": null,
   "metadata": {},
   "outputs": [],
   "source": [
    "# Next, we build n Assay objects and attach the protocols, extraction, sequencing and a data transformation step\n",
    "\n",
    "assay_2 = Assay(filename=\"a_assay_2.txt\")\n",
    "extraction_protocol = Protocol(name='nucleic acid extraction', protocol_type=OntologyAnnotation(term=\"nucleic acid extraction\"))\n",
    "study.protocols.append(extraction_protocol)\n",
    "sequencing_protocol = Protocol(name='sequencing_2', protocol_type=OntologyAnnotation(term=\"nucleic acid sequencing\"))\n",
    "study.protocols.append(sequencing_protocol)\n",
    "dt_protocol = Protocol(name='analysis', protocol_type=OntologyAnnotation(term=\"sequence analysis data transformation\"))\n",
    "study.protocols.append(dt_protocol)\n",
    "\n",
    "# To build out assay graphs, we enumereate the samples from the study-level, and for each sample we create an\n",
    "# extraction process and a sequencing process. The extraction process takes as input a sample material, and produces\n",
    "# an extract material. The sequencing process takes the extract material and produces a data file. This will\n",
    "# produce three graphs, from sample material through to data, as follows:\n",
    "#\n",
    "# (sample_material-0)->(extraction)->(extract-0)->(sequencing)->(sequenced-data-0)\n",
    "# (sample_material-1)->(extraction)->(extract-1)->(sequencing)->(sequenced-data-1)\n",
    "# (sample_material-2)->(extraction)->(extract-2)->(sequencing)->(sequenced-data-2)\n",
    "#\n",
    "# Note that the extraction processes and sequencing processes are distinctly separate instances, where the three\n",
    "# graphs are NOT interconnected.\n",
    "\n",
    "for i, sample in enumerate(study.samples):\n",
    "\n",
    "    # create an extraction process that executes the extraction protocol\n",
    "\n",
    "    extraction_process = Process(executes_protocol=extraction_protocol)\n",
    "\n",
    "    # extraction process takes as input a sample, and produces an extract material as output\n",
    "\n",
    "    extraction_process.inputs.append(sample)\n",
    "    material = Material(name=\"extract-{}\".format(i))\n",
    "    material.type = \"Extract Name\"\n",
    "    extraction_process.outputs.append(material)\n",
    "\n",
    "    # create a sequencing process that executes the sequencing protocol\n",
    "\n",
    "    sequencing_process = Process(executes_protocol=sequencing_protocol)\n",
    "    sequencing_process.name = \"assay-name-{}\".format(i)\n",
    "    sequencing_process.inputs.append(extraction_process.outputs[0])\n",
    "\n",
    "    # Sequencing process usually has an output data file\n",
    "\n",
    "    datafile = DataFile(filename=\"sequenced-data-{}\".format(i), label=\"Raw Data File\")\n",
    "    sequencing_process.outputs.append(datafile)\n",
    "    \n",
    "    # Data Analysis process\n",
    "    dt_process = Process(executes_protocol=dt_protocol)\n",
    "    dt_process.name = \"dt-name-{}\".format(i)\n",
    "    dt_process.inputs.append(sequencing_process.outputs[0])\n",
    "    \n",
    "    derived_file = DataFile(filename=\"derived-data-{}\".format(i), label=\"Derived Data File\")\n",
    "    dt_process.outputs.append(derived_file)\n",
    "    \n",
    "    # Ensure Processes are linked forward and backward. plink(from_process, to_process) is a function to set\n",
    "    # these links for you. It is found in the isatools.model package\n",
    "\n",
    "    plink(extraction_process, sequencing_process)\n",
    "    plink(sequencing_process, dt_process)\n",
    "\n",
    "    # make sure the extract, data file, and the processes are attached to the assay\n",
    "\n",
    "    assay_2.data_files.append(datafile)\n",
    "    assay_2.samples.append(sample)\n",
    "    assay_2.other_material.append(material)\n",
    "    assay_2.process_sequence.append(extraction_process)\n",
    "    assay_2.process_sequence.append(sequencing_process)\n",
    "    assay_2.process_sequence.append(dt_process)\n",
    "    assay_2.measurement_type = OntologyAnnotation(term=\"transcription profiling\")\n",
    "    assay_2.technology_type = OntologyAnnotation(term=\"nucleotide sequencing\")\n",
    "\n",
    "\n",
    "print(assay_2)"
   ]
  },
  {
   "cell_type": "code",
   "execution_count": null,
   "metadata": {},
   "outputs": [],
   "source": [
    "# attach the assays to the study\n",
    "\n",
    "study.assays.append(assay)\n",
    "study.assays.append(assay_1)\n",
    "study.assays.append(assay_2)"
   ]
  },
  {
   "cell_type": "code",
   "execution_count": null,
   "metadata": {},
   "outputs": [],
   "source": [
    "dataframes = dump_tables_to_dataframes(investigation)"
   ]
  },
  {
   "cell_type": "code",
   "execution_count": null,
   "metadata": {},
   "outputs": [],
   "source": [
    "for key in dataframes.keys():\n",
    "    display(key)"
   ]
  },
  {
   "cell_type": "markdown",
   "metadata": {},
   "source": [
    "## Inspecting the different assay tables reveals the importance of using the right strings "
   ]
  },
  {
   "cell_type": "code",
   "execution_count": null,
   "metadata": {},
   "outputs": [],
   "source": [
    " dataframes['a_assay.txt']"
   ]
  },
  {
   "cell_type": "code",
   "execution_count": null,
   "metadata": {},
   "outputs": [],
   "source": [
    " dataframes['a_assay_1.txt']"
   ]
  },
  {
   "cell_type": "code",
   "execution_count": null,
   "metadata": {},
   "outputs": [],
   "source": [
    " dataframes['a_assay_2.txt']"
   ]
  },
  {
   "cell_type": "code",
   "execution_count": null,
   "metadata": {},
   "outputs": [],
   "source": [
    "isatab.dump(investigation,'./notebook-output/isa-protocol-type-assay/') "
   ]
  },
  {
   "cell_type": "code",
   "execution_count": null,
   "metadata": {},
   "outputs": [],
   "source": [
    "my_json_report = isatab.validate(open(os.path.join('./notebook-output/isa-protocol-type-assay/', 'i_investigation.txt')))"
   ]
  },
  {
   "cell_type": "code",
   "execution_count": null,
   "metadata": {},
   "outputs": [],
   "source": [
    "print(my_json_report)"
   ]
  },
  {
   "cell_type": "markdown",
   "metadata": {},
   "source": [
    "## About this notebook\n",
    "\n",
    "- authors: philippe.rocca-serra@oerc.ox.ac.uk, massimiliano.izzo@oerc.ox.ac.uk\n",
    "- license: CC-BY 4.0\n",
    "- support: isatools@googlegroups.com\n",
    "- issue tracker: https://github.com/ISA-tools/isa-api/issues"
   ]
  }
 ],
 "metadata": {
  "kernelspec": {
   "display_name": "Python 3",
   "language": "python",
   "name": "python3"
  },
  "language_info": {
   "codemirror_mode": {
    "name": "ipython",
    "version": 3
   },
   "file_extension": ".py",
   "mimetype": "text/x-python",
   "name": "python",
   "nbconvert_exporter": "python",
   "pygments_lexer": "ipython3",
   "version": "3.7.4"
  }
 },
 "nbformat": 4,
 "nbformat_minor": 4
}
