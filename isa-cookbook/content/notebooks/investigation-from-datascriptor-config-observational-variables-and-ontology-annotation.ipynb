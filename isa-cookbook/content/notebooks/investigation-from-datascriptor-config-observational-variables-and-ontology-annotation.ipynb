{
 "cells": [
  {
   "cell_type": "markdown",
   "metadata": {},
   "source": [
    "# Create ISA-API Investigation from Datascriptor Study Design configuration\n",
    "\n",
    "In this notebook I will show you how you can use a study design configuration is JSON format as produce by datascriptor (https://gitlab.com/datascriptor/datascriptor) to generate a single-study ISA investigation and how you can then serialise it in JSON and tabular (i.e. CSV) format.\n",
    "\n",
    "Or study design configuration consists of:\n",
    "- a 6-arm study design. Each arm has 10 subjects\n",
    "- there is an observational factor with 3 values, which is age_group (young, middle-aged, elderly)\n",
    "- a crossover of two treatments, a drug treatment and a biological treatment\n",
    "- three non-treatment phases: screen, washout and follow-up\n",
    "- two sample types colllected: blood and saliva\n",
    "- two assay types: \n",
    "    - metabolite profiling through mass spectrometry on the saliva sample. The mass spec will be run on a \"Agilent QTQF 6510\" instrument, testing both \"FIA\" and \"LC\" injection modes, and \"positive\" acquisition mode.\n",
    "    - metabolite profiling through  NMR spectroscopy on the blood samples.  The NMR will be run on a \"Bruker Avance II 1 GHz\" instrument, on \"1D 1H NMR\" acquisition mode, testing both \"CPGM\" amd \"TOCSY\" pulse sequences."
   ]
  },
  {
   "cell_type": "markdown",
   "metadata": {},
   "source": [
    "## 1. Setup\n",
    "\n",
    "Let's import all the required libraries"
   ]
  },
  {
   "cell_type": "code",
   "execution_count": null,
   "metadata": {},
   "outputs": [],
   "source": [
    "# If executing the notebooks on `Google Colab`,uncomment the following command \n",
    "# and run it to install the required python libraries. Also, make the test datasets available.\n",
    "\n",
    "# !pip install -r requirements.txt"
   ]
  },
  {
   "cell_type": "code",
   "execution_count": null,
   "metadata": {},
   "outputs": [],
   "source": [
    "from time import time\n",
    "import os\n",
    "import json"
   ]
  },
  {
   "cell_type": "code",
   "execution_count": null,
   "metadata": {},
   "outputs": [],
   "source": [
    "## ISA-API related imports\n",
    "from isatools.model import Investigation, Study"
   ]
  },
  {
   "cell_type": "code",
   "execution_count": null,
   "metadata": {},
   "outputs": [],
   "source": [
    "## ISA-API create mode related imports\n",
    "from isatools.create.model import StudyDesign\n",
    "from isatools.create.connectors import generate_study_design\n",
    "\n",
    "# serializer from ISA Investigation to JSON\n",
    "from isatools.isajson import ISAJSONEncoder\n",
    "\n",
    "# ISA-Tab serialisation\n",
    "from isatools import isatab"
   ]
  },
  {
   "cell_type": "code",
   "execution_count": null,
   "metadata": {},
   "outputs": [],
   "source": [
    "## ISA-API create mode related imports\n",
    "from isatools.create import model\n",
    "from isatools import isajson"
   ]
  },
  {
   "cell_type": "markdown",
   "metadata": {},
   "source": [
    "## 2. Load the Study Design JSON configuration\n",
    "\n",
    "First of all we load the study design configurator with all the specs defined above"
   ]
  },
  {
   "cell_type": "code",
   "execution_count": null,
   "metadata": {},
   "outputs": [],
   "source": [
    "with open(os.path.abspath(os.path.join(\n",
    "    \"isa-study-design-as-json/datascriptor\", \"crossover-study-design-4-arms-blood-derma-nmr-ms-chipseq.json\")), \"r\") as config_file:\n",
    "    study_design_config = json.load(config_file)\n",
    "    \n",
    "study_design_config"
   ]
  },
  {
   "cell_type": "markdown",
   "metadata": {},
   "source": [
    "## 3. Generate the ISA Study Design from the JSON configuration\n",
    "To perform the conversion we just need to use the function `generate_isa_study_design_from_config` (name possibly subject to change, should we drop the \"isa\" and \"datascriptor\" qualifiers?)"
   ]
  },
  {
   "cell_type": "code",
   "execution_count": null,
   "metadata": {},
   "outputs": [],
   "source": [
    "study_design = generate_study_design(study_design_config)\n",
    "assert isinstance(study_design, StudyDesign)"
   ]
  },
  {
   "cell_type": "markdown",
   "metadata": {},
   "source": [
    "## 4. Generate the ISA Study from the StudyDesign and embed it into an ISA Investigation\n",
    "\n",
    "The `StudyDesign.generate_isa_study()` method returns the complete ISA-API `Study` object."
   ]
  },
  {
   "cell_type": "code",
   "execution_count": null,
   "metadata": {},
   "outputs": [],
   "source": [
    "start = time()\n",
    "study = study_design.generate_isa_study()\n",
    "end = time()\n",
    "print('The generation of the study design took {:.2f} s.'.format(end - start))\n",
    "assert isinstance(study, Study)\n",
    "investigation = Investigation(studies=[study])"
   ]
  },
  {
   "cell_type": "markdown",
   "metadata": {},
   "source": [
    "## 5. Serialize and save the JSON representation of the generated ISA Investigation"
   ]
  },
  {
   "cell_type": "code",
   "execution_count": null,
   "metadata": {},
   "outputs": [],
   "source": [
    "start = time()\n",
    "inv_json = json.dumps(investigation, cls=ISAJSONEncoder, sort_keys=True, indent=4, separators=(',', ': '))\n",
    "end = time()\n",
    "print('The JSON serialisation of the ISA investigation took {:.2f} s.'.format(end - start))"
   ]
  },
  {
   "cell_type": "code",
   "execution_count": null,
   "metadata": {},
   "outputs": [],
   "source": [
    "directory = os.path.abspath(os.path.join('output'))\n",
    "if not os.path.exists(directory):\n",
    "    os.makedirs(directory)\n",
    "with open(os.path.abspath(os.path.join('output','isa-investigation-2-arms-nmr-ms.json')), 'w') as out_fp:\n",
    "    json.dump(json.loads(inv_json), out_fp)"
   ]
  },
  {
   "cell_type": "markdown",
   "metadata": {},
   "source": [
    "## 6. Dump the ISA Investigation to ISA-Tab"
   ]
  },
  {
   "cell_type": "markdown",
   "metadata": {},
   "source": [
    "To use them on the notebook we can also dump the tables to pandas DataFrames, using the `dump_tables_to_dataframes` function rather than dump"
   ]
  },
  {
   "cell_type": "code",
   "execution_count": null,
   "metadata": {},
   "outputs": [],
   "source": [
    "start = time()\n",
    "dataframes = isatab.dump_tables_to_dataframes(investigation)\n",
    "end = time()\n",
    "print('The Tab serialisation of the ISA investigation took {:.2f} s.'.format(end - start))\n",
    "\n",
    "# alternatively, if you just want to write the isatab files to file, you can run\n",
    "\n",
    "# isatab.dump(investigation, os.path.abspath(os.path.join('notebook-output/isa-study-from-design-config')))"
   ]
  },
  {
   "cell_type": "code",
   "execution_count": null,
   "metadata": {},
   "outputs": [],
   "source": [
    "len(dataframes)"
   ]
  },
  {
   "cell_type": "markdown",
   "metadata": {},
   "source": [
    "## 7. Check the correctness of the ISA-Tab DataFrames \n",
    "\n",
    "We have 1 study file and 2 assay files (one for MS and one for NMR). Let's check the names:"
   ]
  },
  {
   "cell_type": "code",
   "execution_count": null,
   "metadata": {},
   "outputs": [],
   "source": [
    "for key in dataframes.keys():\n",
    "    display(key)"
   ]
  },
  {
   "cell_type": "markdown",
   "metadata": {},
   "source": [
    "### 7.1 Count of subjects and samples\n",
    "\n",
    "We have 10 subjects in the each of the six arms for a total of 60 subjects. 5 blood samples per subject are collected (1 in treatment 1 phase, 1 in treatment, and 3 in the follow-up phase) for a total of 300 blood samples. These will undergo the NMR assay. We have 4 saliva samples per subject (1 during screen and 3 during follow-up) for a total of 240 saliva samples. These will undergo the \"mass spcetrometry\" assay."
   ]
  },
  {
   "cell_type": "code",
   "execution_count": null,
   "metadata": {},
   "outputs": [],
   "source": [
    "study_frame = dataframes['s_study_01.txt']\n",
    "count_arm0_samples = len(study_frame[study_frame['Source Name'].apply(lambda el: 'GRP0' in el)])\n",
    "count_arm2_samples = len(study_frame[study_frame['Source Name'].apply(lambda el: 'GRP1' in el)])\n",
    "count_arm3_samples = len(study_frame[study_frame['Source Name'].apply(lambda el: 'GRP2' in el)])\n",
    "count_arm4_samples = len(study_frame[study_frame['Source Name'].apply(lambda el: 'GRP3' in el)])\n",
    "count_arm3_samples = len(study_frame[study_frame['Source Name'].apply(lambda el: 'GRP4' in el)])\n",
    "count_arm4_samples = len(study_frame[study_frame['Source Name'].apply(lambda el: 'GRP5' in el)])\n",
    "print(\"There are {} samples in the GRP0 arm (i.e. group)\".format(count_arm0_samples))\n",
    "print(\"There are {} samples in the GRP2 arm (i.e. group)\".format(count_arm2_samples))\n",
    "print(\"There are {} samples in the GRP3 arm (i.e. group)\".format(count_arm3_samples))\n",
    "print(\"There are {} samples in the GRP4 arm (i.e. group)\".format(count_arm4_samples))"
   ]
  },
  {
   "cell_type": "markdown",
   "metadata": {},
   "source": [
    "### 7.1 Overview of the Mass Spec assay table\n",
    "\n",
    "For the mass. spec. assay table, we have 240 (saliva) samples, 480 extracts (2 per  sample, \"lipids\" and \"polar\" fractions), 960 labeled extracts (2 per extract, as \"#replicates\" is  2) and 3840 mass spec protocols + 3840 output files (4 per labeled extract as we do 2 technical replicates with 2 protocol parameter combinations `[\"Agilent QTQF 6510\", \"FIA\", \"positive mode\"]` and `[\"Agilent QTQF 6510\", \"LC\", \"positive mode\"]`)."
   ]
  },
  {
   "cell_type": "code",
   "execution_count": null,
   "metadata": {},
   "outputs": [],
   "source": [
    "dataframes['a_AT0_metabolite-profiling_mass-spectrometry.txt']"
   ]
  },
  {
   "cell_type": "markdown",
   "metadata": {},
   "source": [
    "### Overview of the NMR assay table\n",
    "\n",
    "For the NMR assay table, we have 300 (blood) samples, 1200 extracts (4 per  sample, 2 extraction replicates of the \"supernatant\" and \"pellet\" fractions) and 4800 NMR protocols + 4800 output files (4 per extract as we do 2 technical replicates with 2 protocol parameter combinations `[\"Bruker Avance II 1 GHz\", \"1D 1H NMR\", \"CPGM\"]` and `[\"Bruker Avance II 1 GHz\", \"1D 1H NMR\", \"TOCSY\"]`)."
   ]
  },
  {
   "cell_type": "code",
   "execution_count": null,
   "metadata": {},
   "outputs": [],
   "source": [
    "dataframes['a_AT2_metabolite-profiling_NMR-spectroscopy.txt']"
   ]
  },
  {
   "cell_type": "markdown",
   "metadata": {},
   "source": [
    "### Overview of the Chip-Seq assay table\n",
    "\n",
    "For the Chip-Seq assay table, we have 300 (blood) samples, 1200 extracts (4 per  sample, 2 extraction replicates of the \"supernatant\" and \"pellet\" fractions)."
   ]
  },
  {
   "cell_type": "code",
   "execution_count": null,
   "metadata": {},
   "outputs": [],
   "source": [
    "dataframes['a_AT16_protein-DNA-binding-site-identification_nucleic-acid-sequencing.txt']"
   ]
  },
  {
   "cell_type": "code",
   "execution_count": null,
   "metadata": {},
   "outputs": [],
   "source": [
    "dataframes['a_AT0_metabolite-profiling_mass-spectrometry.txt'].nunique(axis=0, dropna=True)"
   ]
  },
  {
   "cell_type": "code",
   "execution_count": null,
   "metadata": {},
   "outputs": [],
   "source": [
    "dataframes['a_AT2_metabolite-profiling_NMR-spectroscopy.txt'].nunique(axis=0, dropna=True)"
   ]
  },
  {
   "cell_type": "markdown",
   "metadata": {},
   "source": [
    "## About this notebook\n",
    "\n",
    "- authors: philippe.rocca-serra@oerc.ox.ac.uk, massimiliano.izzo@oerc.ox.ac.uk\n",
    "- license: CC-BY 4.0\n",
    "- support: isatools@googlegroups.com\n",
    "- issue tracker: https://github.com/ISA-tools/isa-api/issues"
   ]
  },
  {
   "cell_type": "code",
   "execution_count": null,
   "metadata": {},
   "outputs": [],
   "source": []
  }
 ],
 "metadata": {
  "kernelspec": {
   "display_name": "Python 3",
   "language": "python",
   "name": "python3"
  },
  "language_info": {
   "codemirror_mode": {
    "name": "ipython",
    "version": 3
   },
   "file_extension": ".py",
   "mimetype": "text/x-python",
   "name": "python",
   "nbconvert_exporter": "python",
   "pygments_lexer": "ipython3",
   "version": "3.9.1"
  }
 },
 "nbformat": 4,
 "nbformat_minor": 4
}
