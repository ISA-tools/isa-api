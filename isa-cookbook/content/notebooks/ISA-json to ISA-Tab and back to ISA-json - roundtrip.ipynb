{
 "cells": [
  {
   "cell_type": "code",
   "execution_count": 12,
   "id": "20e0c3cb",
   "metadata": {},
   "outputs": [
    {
     "name": "stdout",
     "output_type": "stream",
     "text": [
      "Collecting git+https://github.com/isa-tools/isa-api.git@develop\r\n",
      "  Cloning https://github.com/isa-tools/isa-api.git (to revision develop) to /private/var/folders/5n/rl6lqnks4rqb59pbtpvvntqw0000gr/T/pip-req-build-5zrvfhbx\r\n",
      "  Running command git clone --filter=blob:none --quiet https://github.com/isa-tools/isa-api.git /private/var/folders/5n/rl6lqnks4rqb59pbtpvvntqw0000gr/T/pip-req-build-5zrvfhbx\r\n",
      "  Running command git checkout -b develop --track origin/develop\r\n",
      "  Switched to a new branch 'develop'\r\n",
      "  Branch 'develop' set up to track remote branch 'develop' from 'origin'.\r\n",
      "  Resolved https://github.com/isa-tools/isa-api.git to commit d246d7752e16d16ee41cf5a1024e50e1898924ff\r\n",
      "  Preparing metadata (setup.py) ... \u001B[?25l-\b \bdone\r\n",
      "\u001B[?25hRequirement already satisfied: graphene==3.1.1 in /Users/philippe/.pyenv/versions/3.9.0/lib/python3.9/site-packages (from isatools==0.14.2) (3.1.1)\r\n",
      "Requirement already satisfied: graphql-core==3.2.3 in /Users/philippe/.pyenv/versions/3.9.0/lib/python3.9/site-packages (from isatools==0.14.2) (3.2.3)\r\n",
      "Requirement already satisfied: wheel~=0.36.2 in /Users/philippe/.pyenv/versions/3.9.0/lib/python3.9/site-packages (from isatools==0.14.2) (0.36.2)\r\n",
      "Requirement already satisfied: setuptools~=57.1.0 in /Users/philippe/.pyenv/versions/3.9.0/lib/python3.9/site-packages (from isatools==0.14.2) (57.1.0)\r\n",
      "Requirement already satisfied: numpy~=1.23.3 in /Users/philippe/.pyenv/versions/3.9.0/lib/python3.9/site-packages (from isatools==0.14.2) (1.23.5)\r\n",
      "Requirement already satisfied: jsonschema~=4.18.4 in /Users/philippe/.pyenv/versions/3.9.0/lib/python3.9/site-packages (from isatools==0.14.2) (4.18.6)\r\n",
      "Requirement already satisfied: pandas==1.5.0 in /Users/philippe/.pyenv/versions/3.9.0/lib/python3.9/site-packages (from isatools==0.14.2) (1.5.0)\r\n",
      "Requirement already satisfied: openpyxl>=2.5.0 in /Users/philippe/.pyenv/versions/3.9.0/lib/python3.9/site-packages (from isatools==0.14.2) (2.6.4)\r\n",
      "Requirement already satisfied: networkx~=2.5.1 in /Users/philippe/.pyenv/versions/3.9.0/lib/python3.9/site-packages (from isatools==0.14.2) (2.5.1)\r\n",
      "Requirement already satisfied: lxml~=4.9.1 in /Users/philippe/.pyenv/versions/3.9.0/lib/python3.9/site-packages (from isatools==0.14.2) (4.9.3)\r\n",
      "Requirement already satisfied: requests~=2.25.1 in /Users/philippe/.pyenv/versions/3.9.0/lib/python3.9/site-packages (from isatools==0.14.2) (2.25.1)\r\n",
      "Requirement already satisfied: iso8601~=0.1.14 in /Users/philippe/.pyenv/versions/3.9.0/lib/python3.9/site-packages (from isatools==0.14.2) (0.1.16)\r\n",
      "Requirement already satisfied: chardet~=4.0.0 in /Users/philippe/.pyenv/versions/3.9.0/lib/python3.9/site-packages (from isatools==0.14.2) (4.0.0)\r\n",
      "Requirement already satisfied: jinja2~=3.0.1 in /Users/philippe/.pyenv/versions/3.9.0/lib/python3.9/site-packages (from isatools==0.14.2) (3.0.1)\r\n",
      "Requirement already satisfied: beautifulsoup4~=4.9.3 in /Users/philippe/.pyenv/versions/3.9.0/lib/python3.9/site-packages (from isatools==0.14.2) (4.9.3)\r\n",
      "Requirement already satisfied: mzml2isa==1.1.1 in /Users/philippe/.pyenv/versions/3.9.0/lib/python3.9/site-packages (from isatools==0.14.2) (1.1.1)\r\n",
      "Requirement already satisfied: biopython~=1.79 in /Users/philippe/.pyenv/versions/3.9.0/lib/python3.9/site-packages (from isatools==0.14.2) (1.79)\r\n",
      "Requirement already satisfied: progressbar2~=3.53.1 in /Users/philippe/.pyenv/versions/3.9.0/lib/python3.9/site-packages (from isatools==0.14.2) (3.53.1)\r\n",
      "Requirement already satisfied: deepdiff~=5.5.0 in /Users/philippe/.pyenv/versions/3.9.0/lib/python3.9/site-packages (from isatools==0.14.2) (5.5.0)\r\n",
      "Requirement already satisfied: PyYAML~=6.0.1 in /Users/philippe/.pyenv/versions/3.9.0/lib/python3.9/site-packages (from isatools==0.14.2) (6.0.1)\r\n",
      "Requirement already satisfied: bokeh~=2.3.2 in /Users/philippe/.pyenv/versions/3.9.0/lib/python3.9/site-packages (from isatools==0.14.2) (2.3.3)\r\n",
      "Requirement already satisfied: certifi==2021.5.30 in /Users/philippe/.pyenv/versions/3.9.0/lib/python3.9/site-packages (from isatools==0.14.2) (2021.5.30)\r\n",
      "Requirement already satisfied: flake8==3.9.2 in /Users/philippe/.pyenv/versions/3.9.0/lib/python3.9/site-packages (from isatools==0.14.2) (3.9.2)\r\n",
      "Requirement already satisfied: ddt==1.4.2 in /Users/philippe/.pyenv/versions/3.9.0/lib/python3.9/site-packages (from isatools==0.14.2) (1.4.2)\r\n",
      "Requirement already satisfied: behave==1.2.6 in /Users/philippe/.pyenv/versions/3.9.0/lib/python3.9/site-packages (from isatools==0.14.2) (1.2.6)\r\n",
      "Requirement already satisfied: httpretty==1.1.3 in /Users/philippe/.pyenv/versions/3.9.0/lib/python3.9/site-packages (from isatools==0.14.2) (1.1.3)\r\n",
      "Requirement already satisfied: sure==2.0.0 in /Users/philippe/.pyenv/versions/3.9.0/lib/python3.9/site-packages (from isatools==0.14.2) (2.0.0)\r\n",
      "Requirement already satisfied: coveralls~=3.1.0 in /Users/philippe/.pyenv/versions/3.9.0/lib/python3.9/site-packages (from isatools==0.14.2) (3.1.0)\r\n",
      "Requirement already satisfied: rdflib~=6.0.2 in /Users/philippe/.pyenv/versions/3.9.0/lib/python3.9/site-packages (from isatools==0.14.2) (6.0.2)\r\n",
      "Requirement already satisfied: Flask~=2.2.2 in /Users/philippe/.pyenv/versions/3.9.0/lib/python3.9/site-packages (from isatools==0.14.2) (2.2.5)\r\n",
      "Requirement already satisfied: flask_sqlalchemy~=3.0.2 in /Users/philippe/.pyenv/versions/3.9.0/lib/python3.9/site-packages (from isatools==0.14.2) (3.0.5)\r\n",
      "Requirement already satisfied: parse-type>=0.4.2 in /Users/philippe/.pyenv/versions/3.9.0/lib/python3.9/site-packages (from behave==1.2.6->isatools==0.14.2) (0.6.2)\r\n",
      "Requirement already satisfied: six>=1.11 in /Users/philippe/.pyenv/versions/3.9.0/lib/python3.9/site-packages (from behave==1.2.6->isatools==0.14.2) (1.16.0)\r\n",
      "Requirement already satisfied: parse>=1.8.2 in /Users/philippe/.pyenv/versions/3.9.0/lib/python3.9/site-packages (from behave==1.2.6->isatools==0.14.2) (1.19.1)\r\n",
      "Requirement already satisfied: mccabe<0.7.0,>=0.6.0 in /Users/philippe/.pyenv/versions/3.9.0/lib/python3.9/site-packages (from flake8==3.9.2->isatools==0.14.2) (0.6.1)\r\n",
      "Requirement already satisfied: pycodestyle<2.8.0,>=2.7.0 in /Users/philippe/.pyenv/versions/3.9.0/lib/python3.9/site-packages (from flake8==3.9.2->isatools==0.14.2) (2.7.0)\r\n",
      "Requirement already satisfied: pyflakes<2.4.0,>=2.3.0 in /Users/philippe/.pyenv/versions/3.9.0/lib/python3.9/site-packages (from flake8==3.9.2->isatools==0.14.2) (2.3.1)\r\n",
      "Requirement already satisfied: graphql-relay<3.3,>=3.1 in /Users/philippe/.pyenv/versions/3.9.0/lib/python3.9/site-packages (from graphene==3.1.1->isatools==0.14.2) (3.2.0)\r\n",
      "Requirement already satisfied: aniso8601<10,>=8 in /Users/philippe/.pyenv/versions/3.9.0/lib/python3.9/site-packages (from graphene==3.1.1->isatools==0.14.2) (9.0.1)\r\n",
      "Requirement already satisfied: fs~=2.4 in /Users/philippe/.pyenv/versions/3.9.0/lib/python3.9/site-packages (from mzml2isa==1.1.1->isatools==0.14.2) (2.4.13)\r\n",
      "Requirement already satisfied: pronto~=2.0 in /Users/philippe/.pyenv/versions/3.9.0/lib/python3.9/site-packages (from mzml2isa==1.1.1->isatools==0.14.2) (2.5.1)\r\n",
      "Requirement already satisfied: pytz>=2020.1 in /Users/philippe/.pyenv/versions/3.9.0/lib/python3.9/site-packages (from pandas==1.5.0->isatools==0.14.2) (2021.1)\r\n",
      "Requirement already satisfied: python-dateutil>=2.8.1 in /Users/philippe/.pyenv/versions/3.9.0/lib/python3.9/site-packages (from pandas==1.5.0->isatools==0.14.2) (2.8.2)\r\n",
      "Requirement already satisfied: mock in /Users/philippe/.pyenv/versions/3.9.0/lib/python3.9/site-packages (from sure==2.0.0->isatools==0.14.2) (5.1.0)\r\n",
      "Requirement already satisfied: soupsieve>1.2 in /Users/philippe/.pyenv/versions/3.9.0/lib/python3.9/site-packages (from beautifulsoup4~=4.9.3->isatools==0.14.2) (2.2.1)\r\n",
      "Requirement already satisfied: pillow>=7.1.0 in /Users/philippe/.pyenv/versions/3.9.0/lib/python3.9/site-packages (from bokeh~=2.3.2->isatools==0.14.2) (10.1.0)\r\n",
      "Requirement already satisfied: tornado>=5.1 in /Users/philippe/.pyenv/versions/3.9.0/lib/python3.9/site-packages (from bokeh~=2.3.2->isatools==0.14.2) (6.1)\r\n",
      "Requirement already satisfied: typing-extensions>=3.7.4 in /Users/philippe/.pyenv/versions/3.9.0/lib/python3.9/site-packages (from bokeh~=2.3.2->isatools==0.14.2) (4.8.0)\r\n",
      "Requirement already satisfied: packaging>=16.8 in /Users/philippe/.pyenv/versions/3.9.0/lib/python3.9/site-packages (from bokeh~=2.3.2->isatools==0.14.2) (21.0)\r\n",
      "Requirement already satisfied: coverage<6.0,>=4.1 in /Users/philippe/.pyenv/versions/3.9.0/lib/python3.9/site-packages (from coveralls~=3.1.0->isatools==0.14.2) (5.5)\r\n",
      "Requirement already satisfied: docopt>=0.6.1 in /Users/philippe/.pyenv/versions/3.9.0/lib/python3.9/site-packages (from coveralls~=3.1.0->isatools==0.14.2) (0.6.2)\r\n",
      "Requirement already satisfied: ordered-set==4.0.2 in /Users/philippe/.pyenv/versions/3.9.0/lib/python3.9/site-packages (from deepdiff~=5.5.0->isatools==0.14.2) (4.0.2)\r\n",
      "Requirement already satisfied: click>=8.0 in /Users/philippe/.pyenv/versions/3.9.0/lib/python3.9/site-packages (from Flask~=2.2.2->isatools==0.14.2) (8.1.7)\r\n",
      "Requirement already satisfied: itsdangerous>=2.0 in /Users/philippe/.pyenv/versions/3.9.0/lib/python3.9/site-packages (from Flask~=2.2.2->isatools==0.14.2) (2.1.2)\r\n",
      "Requirement already satisfied: Werkzeug>=2.2.2 in /Users/philippe/.pyenv/versions/3.9.0/lib/python3.9/site-packages (from Flask~=2.2.2->isatools==0.14.2) (3.0.1)\r\n",
      "Requirement already satisfied: importlib-metadata>=3.6.0 in /Users/philippe/.pyenv/versions/3.9.0/lib/python3.9/site-packages (from Flask~=2.2.2->isatools==0.14.2) (6.8.0)\r\n",
      "Requirement already satisfied: sqlalchemy>=1.4.18 in /Users/philippe/.pyenv/versions/3.9.0/lib/python3.9/site-packages (from flask_sqlalchemy~=3.0.2->isatools==0.14.2) (2.0.23)\r\n",
      "Requirement already satisfied: MarkupSafe>=2.0 in /Users/philippe/.pyenv/versions/3.9.0/lib/python3.9/site-packages (from jinja2~=3.0.1->isatools==0.14.2) (2.1.3)\r\n",
      "Requirement already satisfied: rpds-py>=0.7.1 in /Users/philippe/.pyenv/versions/3.9.0/lib/python3.9/site-packages (from jsonschema~=4.18.4->isatools==0.14.2) (0.13.0)\r\n",
      "Requirement already satisfied: attrs>=22.2.0 in /Users/philippe/.pyenv/versions/3.9.0/lib/python3.9/site-packages (from jsonschema~=4.18.4->isatools==0.14.2) (23.1.0)\r\n",
      "Requirement already satisfied: referencing>=0.28.4 in /Users/philippe/.pyenv/versions/3.9.0/lib/python3.9/site-packages (from jsonschema~=4.18.4->isatools==0.14.2) (0.31.0)\r\n",
      "Requirement already satisfied: jsonschema-specifications>=2023.03.6 in /Users/philippe/.pyenv/versions/3.9.0/lib/python3.9/site-packages (from jsonschema~=4.18.4->isatools==0.14.2) (2023.11.1)\r\n",
      "Requirement already satisfied: decorator<5,>=4.3 in /Users/philippe/.pyenv/versions/3.9.0/lib/python3.9/site-packages (from networkx~=2.5.1->isatools==0.14.2) (4.4.2)\r\n",
      "Requirement already satisfied: jdcal in /Users/philippe/.pyenv/versions/3.9.0/lib/python3.9/site-packages (from openpyxl>=2.5.0->isatools==0.14.2) (1.4.1)\r\n",
      "Requirement already satisfied: et_xmlfile in /Users/philippe/.pyenv/versions/3.9.0/lib/python3.9/site-packages (from openpyxl>=2.5.0->isatools==0.14.2) (1.1.0)\r\n",
      "Requirement already satisfied: python-utils>=2.3.0 in /Users/philippe/.pyenv/versions/3.9.0/lib/python3.9/site-packages (from progressbar2~=3.53.1->isatools==0.14.2) (2.5.6)\r\n",
      "Requirement already satisfied: pyparsing in /Users/philippe/.pyenv/versions/3.9.0/lib/python3.9/site-packages (from rdflib~=6.0.2->isatools==0.14.2) (2.4.7)\r\n",
      "Requirement already satisfied: isodate in /Users/philippe/.pyenv/versions/3.9.0/lib/python3.9/site-packages (from rdflib~=6.0.2->isatools==0.14.2) (0.6.0)\r\n",
      "Requirement already satisfied: idna<3,>=2.5 in /Users/philippe/.pyenv/versions/3.9.0/lib/python3.9/site-packages (from requests~=2.25.1->isatools==0.14.2) (2.10)\r\n",
      "Requirement already satisfied: urllib3<1.27,>=1.21.1 in /Users/philippe/.pyenv/versions/3.9.0/lib/python3.9/site-packages (from requests~=2.25.1->isatools==0.14.2) (1.26.6)\r\n",
      "Requirement already satisfied: appdirs~=1.4.3 in /Users/philippe/.pyenv/versions/3.9.0/lib/python3.9/site-packages (from fs~=2.4->mzml2isa==1.1.1->isatools==0.14.2) (1.4.4)\r\n",
      "Requirement already satisfied: zipp>=0.5 in /Users/philippe/.pyenv/versions/3.9.0/lib/python3.9/site-packages (from importlib-metadata>=3.6.0->Flask~=2.2.2->isatools==0.14.2) (3.17.0)\r\n",
      "Requirement already satisfied: fastobo~=0.12.1 in /Users/philippe/.pyenv/versions/3.9.0/lib/python3.9/site-packages (from pronto~=2.0->mzml2isa==1.1.1->isatools==0.14.2) (0.12.2)\r\n",
      "Requirement already satisfied: greenlet!=0.4.17 in /Users/philippe/.pyenv/versions/3.9.0/lib/python3.9/site-packages (from sqlalchemy>=1.4.18->flask_sqlalchemy~=3.0.2->isatools==0.14.2) (3.0.1)\r\n",
      "Building wheels for collected packages: isatools\r\n",
      "  Building wheel for isatools (setup.py) ... \u001B[?25l-\b \b\\\b \b|\b \b/\b \b-\b \b\\\b \b|\b \b/\b \b-\b \b\\\b \b|\b \b/\b \b-\b \b\\\b \b|\b \b/\b \b-\b \b\\\b \b|\b \b/\b \b-\b \b\\\b \b|\b \b/\b \b-\b \b\\\b \b|\b \b/\b \b-\b \b\\\b \b|\b \bdone\r\n",
      "\u001B[?25h  Created wheel for isatools: filename=isatools-0.14.2-py3-none-any.whl size=2687364 sha256=a1e03f45642a270ed616ebe1fabe6fd2c9b92e720b4335ff97dfd2f14dbaa21c\r\n",
      "  Stored in directory: /private/var/folders/5n/rl6lqnks4rqb59pbtpvvntqw0000gr/T/pip-ephem-wheel-cache-blllffov/wheels/7a/cd/2f/2a642c74c35b34fbde447e2b8bbf6ec194796d0c6ef5571318\r\n",
      "Successfully built isatools\r\n",
      "Installing collected packages: isatools\r\n",
      "  Attempting uninstall: isatools\r\n",
      "    Found existing installation: isatools 0.12.0a0\r\n",
      "\u001B[31mERROR: Exception:\r\n",
      "Traceback (most recent call last):\r\n",
      "  File \"/Users/philippe/.pyenv/versions/3.9.0/lib/python3.9/site-packages/pip/_internal/cli/base_command.py\", line 167, in exc_logging_wrapper\r\n",
      "    status = run_func(*args)\r\n",
      "  File \"/Users/philippe/.pyenv/versions/3.9.0/lib/python3.9/site-packages/pip/_internal/cli/req_command.py\", line 205, in wrapper\r\n",
      "    return func(self, options, args)\r\n",
      "  File \"/Users/philippe/.pyenv/versions/3.9.0/lib/python3.9/site-packages/pip/_internal/commands/install.py\", line 405, in run\r\n",
      "    installed = install_given_reqs(\r\n",
      "  File \"/Users/philippe/.pyenv/versions/3.9.0/lib/python3.9/site-packages/pip/_internal/req/__init__.py\", line 68, in install_given_reqs\r\n",
      "    uninstalled_pathset = requirement.uninstall(auto_confirm=True)\r\n",
      "  File \"/Users/philippe/.pyenv/versions/3.9.0/lib/python3.9/site-packages/pip/_internal/req/req_install.py\", line 637, in uninstall\r\n",
      "    uninstalled_pathset = UninstallPathSet.from_dist(dist)\r\n",
      "  File \"/Users/philippe/.pyenv/versions/3.9.0/lib/python3.9/site-packages/pip/_internal/req/req_uninstall.py\", line 530, in from_dist\r\n",
      "    assert link_pointer == dist_location, (\r\n",
      "AssertionError: Egg-link /Users/philippe/Documents/git/isa-api2/isa-api/src/isatools does not match installed location of isatools (at /Users/philippe/Documents/git/isa-api2/isa-api)\u001B[0m\u001B[31m\r\n",
      "\u001B[0m\u001B[33mWARNING: You are using pip version 22.0.3; however, version 23.3.1 is available.\r\n",
      "You should consider upgrading via the '/Users/philippe/.pyenv/versions/3.9.0/bin/python3.9 -m pip install --upgrade pip' command.\u001B[0m\u001B[33m\r\n",
      "\u001B[0m"
     ]
    }
   ],
   "source": [
    "!pip install git+https://github.com/isa-tools/isa-api.git@develop"
   ]
  },
  {
   "cell_type": "code",
   "execution_count": 13,
   "id": "7f776e9d",
   "metadata": {},
   "outputs": [],
   "source": [
    "from isatools.model import (\n",
    "    Comment,\n",
    "    Investigation,\n",
    "    Study,\n",
    "    StudyFactor,\n",
    "    FactorValue,\n",
    "    OntologyAnnotation,\n",
    "    Characteristic,\n",
    "    OntologySource,\n",
    "    Material,\n",
    "    Sample,\n",
    "    Source,\n",
    "    Protocol,\n",
    "    ProtocolParameter,\n",
    "    ProtocolComponent,\n",
    "    ParameterValue,\n",
    "    Process,\n",
    "    Publication,\n",
    "    Person,\n",
    "    Assay,\n",
    "    DataFile,\n",
    "    plink\n",
    ")\n",
    "import datetime\n",
    "import os"
   ]
  },
  {
   "cell_type": "code",
   "execution_count": 14,
   "id": "cc70ba63",
   "metadata": {},
   "outputs": [],
   "source": [
    "from isatools.convert import isatab2json\n",
    "from isatools import isajson\n",
    "import json\n",
    "\n",
    "# isa_json = isatab2json.convert(main_path, validate_first=False, use_new_parser=True)\n",
    "\n",
    "# with open(os.path.join(main_path, 'isa-bh2023-all.json'), 'w') as out_fp:\n",
    "#     json.dump(isa_json, out_fp)"
   ]
  },
  {
   "cell_type": "code",
   "execution_count": 15,
   "id": "7931bbd0",
   "metadata": {},
   "outputs": [
    {
     "name": "stdout",
     "output_type": "stream",
     "text": [
      "Name: isatools\r\n",
      "Version: 0.12.0a0\r\n",
      "Summary: Metadata tracking tools help to manage an increasingly diverse set of life science, environmental and biomedical experiments\r\n",
      "Home-page: https://github.com/ISA-tools/isa-api\r\n",
      "Author: ISA Infrastructure Team\r\n",
      "Author-email: isatools@googlegroups.com\r\n",
      "License: UNKNOWN\r\n",
      "Location: /Users/philippe/Documents/git/isa-api2/isa-api\r\n",
      "Requires: beautifulsoup4, biopython, chardet, deepdiff, iso8601, jinja2, jsonschema, lxml, mzml2isa, networkx, numpy, pandas, progressbar2, PyYAML, requests\r\n",
      "Required-by: \r\n"
     ]
    }
   ],
   "source": [
    "!pip show isatools"
   ]
  },
  {
   "cell_type": "code",
   "execution_count": 16,
   "outputs": [],
   "source": [
    "main_path = \"./output/ISA-BH2023-ALL/\"\n",
    "data_path = \"./notebook-output/BII-I-1-RT/\""
   ],
   "metadata": {
    "collapsed": false,
    "pycharm": {
     "name": "#%%\n"
    }
   }
  },
  {
   "cell_type": "code",
   "execution_count": 17,
   "id": "a2a84bfd",
   "metadata": {},
   "outputs": [
    {
     "name": "stdout",
     "output_type": "stream",
     "text": [
      "CONFIG at:  /Users/philippe/Documents/git/isa-api2/isa-api/isatools/isajson/../resources/config/json/default\n",
      "assay name:  spectrum.mzdata\n",
      "assay name:  proteins.csv\n",
      "assay name:  ptms.csv\n",
      "assay name:  peptides.csv\n",
      "assay name:  PRIDE_Exp_Complete_Ac_8761.xml\n",
      "assay name:  JIC85_Sulphate_0.10_External_1_1.txt\n",
      "assay name:  E-MEXP-115-raw-data-331224145.txt\n",
      "assay name:  E-MEXP-115-processed-data-1341986893.txt\n",
      "assay name:  E-MAXD-4-raw-data-426648675.txt\n",
      "assay name:  E-MAXD-4-processed-data-1342566476.txt\n"
     ]
    }
   ],
   "source": [
    "from isatools.convert import json2isatab\n",
    "with open(os.path.join(\"./../../../tests/data/json/BII-I-1\", \"BII-I-1.json\")) as json_fp:\n",
    "            json2isatab.convert(\n",
    "                json_fp, data_path, write_factor_values_in_assay_table=False\n",
    "            )"
   ]
  },
  {
   "cell_type": "code",
   "execution_count": 18,
   "id": "ec7f914a",
   "metadata": {},
   "outputs": [],
   "source": [
    "\n",
    "isa_json = isatab2json.convert(data_path,use_new_parser=True)\n",
    "          \n",
    "with open(os.path.join(data_path, 'isa.json'), 'w') as out_fp:\n",
    "            json.dump(isa_json, out_fp)"
   ]
  }
 ],
 "metadata": {
  "kernelspec": {
   "name": "isa-py-3.11",
   "language": "python",
   "display_name": "isa-py-3.11"
  },
  "language_info": {
   "codemirror_mode": {
    "name": "ipython",
    "version": 3
   },
   "file_extension": ".py",
   "mimetype": "text/x-python",
   "name": "python",
   "nbconvert_exporter": "python",
   "pygments_lexer": "ipython3",
   "version": "3.9.0"
  }
 },
 "nbformat": 4,
 "nbformat_minor": 5
}