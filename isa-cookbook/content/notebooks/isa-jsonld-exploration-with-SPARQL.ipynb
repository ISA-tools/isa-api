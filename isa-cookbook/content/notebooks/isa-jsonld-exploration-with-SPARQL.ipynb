{
 "cells": [
  {
   "cell_type": "code",
   "execution_count": null,
   "metadata": {
    "scrolled": true
   },
   "outputs": [],
   "source": [
    "import os\n",
    "import rdflib\n",
    "import rdflib_jsonld\n",
    "from rdflib import Literal\n",
    "from rdflib import Graph, ConjunctiveGraph, plugin\n",
    "from rdflib.serializer import Serializer"
   ]
  },
  {
   "cell_type": "markdown",
   "metadata": {},
   "source": [
    "### Trying to parse an ISA json-ld instance file"
   ]
  },
  {
   "cell_type": "code",
   "execution_count": null,
   "metadata": {},
   "outputs": [],
   "source": [
    "ontology = \"wdt\"\n",
    "\n",
    "isa_json_ld_path = os.path.join(\"./output/BII-S-3-synth/\", \"isa-new_ids-BII-S-3-ld-\" + ontology + \"-v1.json\")\n",
    "\n",
    "with open(isa_json_ld_path) as LDin:\n",
    "    print(LDin)    "
   ]
  },
  {
   "cell_type": "code",
   "execution_count": null,
   "metadata": {},
   "outputs": [],
   "source": [
    "g3 = rdflib.Graph() # also tried ConjuctiveGraph (as per https://github.com/RDFLib/rdflib-jsonld/issues/53, no lucj)"
   ]
  },
  {
   "cell_type": "code",
   "execution_count": null,
   "metadata": {},
   "outputs": [],
   "source": [
    "\n",
    "g3.parse(isa_json_ld_path, format='json-ld')"
   ]
  },
  {
   "cell_type": "code",
   "execution_count": null,
   "metadata": {},
   "outputs": [],
   "source": [
    "# with open(\"BII-S-3.ttl\", \"w\") as TTLout:\n",
    "\n",
    "#     g3.serialize(\"BII-S-3.ttl\", format='ttl')"
   ]
  },
  {
   "cell_type": "markdown",
   "metadata": {},
   "source": [
    "### Getting the Data Files:"
   ]
  },
  {
   "cell_type": "code",
   "execution_count": null,
   "metadata": {},
   "outputs": [],
   "source": [
    "# Select all the things (s) that are of type (rdf:type) c:\n",
    "# qres = g3.query(\"\"\"\n",
    "# SELECT DISTINCT ?study ?protocol ?file ?filename WHERE { \n",
    "# ?study a wdt:Q101965 .\n",
    "# ?protocol a wdt:Q41689629 . \n",
    "# ?file a wdt:Q5227290 .\n",
    "# ?file wdtp:P527 ?filename .\n",
    "# }\"\"\")\n",
    "\n",
    "qres = g3.query(\"\"\"\n",
    "SELECT DISTINCT  ?file ?filename WHERE {  \n",
    "?file a wdt:Q5227290 .\n",
    "?file wdtp:has_name ?filename .\n",
    "}\"\"\")\n",
    "\n",
    "for row in qres:\n",
    "    print(f\"{row.file} | {row.filename}\")"
   ]
  },
  {
   "cell_type": "markdown",
   "metadata": {},
   "source": [
    "### Getting ISA Study Author Information:"
   ]
  },
  {
   "cell_type": "code",
   "execution_count": null,
   "metadata": {},
   "outputs": [],
   "source": [
    "qres = g3.query(\"\"\"\n",
    "SELECT DISTINCT  ?person_iri ?lastname ?firstname ?email ?affiliation ?role WHERE {  \n",
    "?person_iri a wdt:Q215627 .\n",
    "?person_iri wdtp:P735 ?firstname .\n",
    "?person_iri wdtp:P734 ?lastname .\n",
    "?person_iri wdtp:P968 ?email .\n",
    "?person_iri wdtp:P361 ?affiliation .\n",
    "# ?person_iri wdtp:P2868 ?role_iri .\n",
    "?role_iri wdtp:P527 ?role .\n",
    "FILTER (str(?role) = \"principal investigator role\" ) .\n",
    "}\n",
    "\"\"\")\n",
    "\n",
    "for row in qres:\n",
    "    print(f\"{row.firstname} {row.lastname} | {row.email} |  {row.affiliation} | {row.role}\")"
   ]
  },
  {
   "cell_type": "code",
   "execution_count": null,
   "metadata": {},
   "outputs": [],
   "source": [
    "qres = g3.query(\"\"\"\n",
    "SELECT DISTINCT  ?person_iri ?lastname ?firstname ?email ?affiliation ?role WHERE {  \n",
    "?person_iri rdf:type wdt:Q215627 .\n",
    "?person_iri wdtp:P735 ?firstname .\n",
    "?person_iri wdtp:P734 ?lastname .\n",
    "?person_iri wdtp:P968 ?email .\n",
    "?person_iri wdtp:P361 ?affiliation .\n",
    "?person_iri wdtp:P2868 ?role_iri .\n",
    "?role_iri wdtp:P527 ?role .\n",
    "#FILTER (regex(str(?role), “principal”) ) .\n",
    "FILTER (str(?role) = \"principal investigator role\" ) .\n",
    "}\n",
    "\"\"\")\n",
    "\n",
    "for row in qres:\n",
    "    print(f\"{row.firstname} {row.lastname} | {row.email} |  {row.affiliation} | {row.role}\")"
   ]
  },
  {
   "cell_type": "markdown",
   "metadata": {},
   "source": [
    "### Getting List of ISA Study Factors (Independent Variables)"
   ]
  },
  {
   "cell_type": "code",
   "execution_count": null,
   "metadata": {},
   "outputs": [],
   "source": [
    "qres = g3.query(\"\"\"\n",
    "SELECT DISTINCT  ?factor_iri ?name ?type WHERE {  \n",
    "?factor_iri a wdt:Q2487752 .\n",
    "?factor_iri wdtp:P1448-FACTORNAME ?name .\n",
    "#?factor_iri wdtp:P527 ?type .\n",
    "\n",
    "}\"\"\")\n",
    "\n",
    "for row in qres:\n",
    "    print(f\" {row.name} | {row.type}\")"
   ]
  },
  {
   "cell_type": "markdown",
   "metadata": {},
   "source": [
    "### Getting list of ISA Protocols and associated information"
   ]
  },
  {
   "cell_type": "code",
   "execution_count": null,
   "metadata": {},
   "outputs": [],
   "source": [
    "qres = g3.query(\"\"\"\n",
    "SELECT DISTINCT  ?protocol_iri ?name ?protocol ?param_iri ?param_name ?onto_iri ?onto_src WHERE { \n",
    "?protocol_iri a wdt:Q41689629 .\n",
    "?protocol_iri wdtp:has_name ?name .\n",
    "?protocol_iri wdtp:P2283 ?param_iri .\n",
    "?param_iri wdtp:P1448-PARAMNAME ?onto_iri .\n",
    "?onto_iri wdtp:P527 ?param_name .\n",
    "?onto_iri wdtp:P5967 ?onto_src .\n",
    "\n",
    "}\"\"\")\n",
    "\n",
    "\n",
    "for row in qres:\n",
    "    print(f\" | {row.protocol_iri} | {row.name} | {row.param_name} |  {row.onto_src} \")"
   ]
  },
  {
   "cell_type": "markdown",
   "metadata": {},
   "source": [
    "### Getting list of ISA Study publications"
   ]
  },
  {
   "cell_type": "code",
   "execution_count": null,
   "metadata": {},
   "outputs": [],
   "source": [
    "qres = g3.query(\"\"\"\n",
    "SELECT DISTINCT  ?study_iri ?study_title ?publication_iri ?pmid ?doi ?name ?authorlist ?title WHERE {\n",
    "?study_iri a wdt:Q101965 .\n",
    "?study_iri wdtp:Q853614 ?study_id .\n",
    "?study_iri wdtp:P1476 ?study_title .\n",
    "?study_iri wdtp:P527 ?publication_iri .\n",
    "?publication_iri wdtp:P1476 ?title .\n",
    "?publication_iri wdtp:P527 ?doi .\n",
    "?publication_iri wdtp:P527 ?pmid .\n",
    "?publication_iri wdtp:P527 ?authorlist .\n",
    "}\"\"\")\n",
    "\n",
    "\n",
    "for row in qres:\n",
    "    print(f\"  {row.study_title}  |  {row.publication_iri} |  {row.title}  | {row.pmid} | {row.doi} |  {row.authorlist}\")"
   ]
  },
  {
   "cell_type": "markdown",
   "metadata": {},
   "source": [
    "### Getting list of ISA Source material properties"
   ]
  },
  {
   "cell_type": "code",
   "execution_count": null,
   "metadata": {},
   "outputs": [],
   "source": [
    "# qres = g3.query(\"\"\"\n",
    "# SELECT DISTINCT  ?study_iri  WHERE {\n",
    "# ?study_iri a wdt:Q101965 .\n",
    "# ?study_iri wdtp:Q853614 ?study_id .\n",
    "# ?study_iri wdtp:P1476 ?study_title .\n",
    "# ?study_iri wdtp:P527 ?publication_iri .\n",
    "# }\"\"\")\n",
    "\n",
    "\n",
    "# for row in qres:\n",
    "#     print(f\"  {row.title}  | {row.pmid} | {row.doi} |  {row.authorlist}\")"
   ]
  },
  {
   "cell_type": "markdown",
   "metadata": {},
   "source": [
    "### Getting a simple JSON-LD file"
   ]
  },
  {
   "cell_type": "code",
   "execution_count": null,
   "metadata": {},
   "outputs": [],
   "source": [
    "uri ='https://raw.githubusercontent.com/json-ld/json-ld.org/main/examples/syntax/example-058-Implicitly-named-graph.json'"
   ]
  },
  {
   "cell_type": "markdown",
   "metadata": {},
   "source": [
    "### Creating a graph object"
   ]
  },
  {
   "cell_type": "code",
   "execution_count": null,
   "metadata": {},
   "outputs": [],
   "source": [
    "graph = rdflib.Graph()"
   ]
  },
  {
   "cell_type": "markdown",
   "metadata": {},
   "source": [
    "#### Parsing a jsonld document and loading the document as a graph in rdflib"
   ]
  },
  {
   "cell_type": "code",
   "execution_count": null,
   "metadata": {},
   "outputs": [],
   "source": [
    "graph.parse(uri, format='json-ld')"
   ]
  },
  {
   "cell_type": "markdown",
   "metadata": {},
   "source": [
    "#### Converting the graph to the Turtle format"
   ]
  },
  {
   "cell_type": "code",
   "execution_count": null,
   "metadata": {},
   "outputs": [],
   "source": [
    "new_data_as_turtle = graph.serialize(format='ttl').decode('u8)')"
   ]
  },
  {
   "cell_type": "code",
   "execution_count": null,
   "metadata": {},
   "outputs": [],
   "source": [
    "print(new_data_as_turtle)"
   ]
  },
  {
   "cell_type": "code",
   "execution_count": null,
   "metadata": {},
   "outputs": [],
   "source": [
    "g1 = rdflib.Graph()\n",
    "g1.parse('https://raw.githubusercontent.com/json-ld/json-ld.org/main/examples/syntax/example-058-Implicitly-named-graph.json', format='json-ld')"
   ]
  },
  {
   "cell_type": "code",
   "execution_count": null,
   "metadata": {},
   "outputs": [],
   "source": [
    "g1_as_turtle = g1.serialize(format='ttl').decode('u8)')"
   ]
  },
  {
   "cell_type": "code",
   "execution_count": null,
   "metadata": {},
   "outputs": [],
   "source": [
    "print(g1_as_turtle)"
   ]
  },
  {
   "cell_type": "markdown",
   "metadata": {},
   "source": [
    "### Using `ConjuctiveGraph` instead of `Graph` for parsing an ontology file with import statements"
   ]
  },
  {
   "cell_type": "code",
   "execution_count": null,
   "metadata": {},
   "outputs": [],
   "source": [
    "g2 = rdflib.ConjunctiveGraph()\n",
    "g2.parse(\"http://purl.obolibrary.org/obo/iao.owl\")\n",
    "j = g2.serialize(format='json-ld', indent=4).decode('u8')\n",
    "with open('iao-ontology.jsonld', 'w') as f:\n",
    "    f.write(str(j))\n",
    "f.close()"
   ]
  },
  {
   "cell_type": "code",
   "execution_count": null,
   "metadata": {},
   "outputs": [],
   "source": [
    "print(g2.serialize(format='json-ld', indent=4).decode('u8'))"
   ]
  }
 ],
 "metadata": {
  "kernelspec": {
   "display_name": "isa-api-py39",
   "language": "python",
   "name": "isa-api-py39"
  },
  "language_info": {
   "codemirror_mode": {
    "name": "ipython",
    "version": 3
   },
   "file_extension": ".py",
   "mimetype": "text/x-python",
   "name": "python",
   "nbconvert_exporter": "python",
   "pygments_lexer": "ipython3",
   "version": "3.9.0"
  }
 },
 "nbformat": 4,
 "nbformat_minor": 4
}
