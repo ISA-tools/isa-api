{
 "cells": [
  {
   "cell_type": "markdown",
   "metadata": {},
   "source": [
    "#### Create ISA-API Investigation from Datascriptor Study Design configuration\n",
    "## Cross-over study with two drug treatments on humans\n",
    "\n",
    "In this notebook, we will show you how you can use a study design configuration is JSON format as produce by datascriptor (https://gitlab.com/datascriptor/datascriptor) to generate a single-study ISA investigation and how you can then serialise it in JSON and tabular (i.e. CSV) format.\n",
    "\n",
    "The study design configuration consists of:\n",
    "- a 4-arm study design. Each arm has 10 subjects\n",
    "- Subjects are humans. \n",
    "    - There is an observational factor, named \"status\" with two values: \"healthy\" and \"diseased\"\n",
    "- a crossover of two drug treatments: a proper treatment (\"hypertena\" 20 mg/day for 14 days) and a control treatment (\"placebo\" 20 mg/day for 14 days)\n",
    "- three non-treatment phases: screen (7 days), washout (14 days) and follow-up (180 days)\n",
    "- two sample types collected: blood and saliva\n",
    "- two assay types: \n",
    "    - DNA methylation profiling using nucleic acid sequencing on saliva samples\n",
    "    - clinical chemistry with marker on blood samples"
   ]
  },
  {
   "cell_type": "markdown",
   "metadata": {},
   "source": [
    "## 1. Setup\n",
    "\n",
    "Let's import all the required libraries"
   ]
  },
  {
   "cell_type": "code",
   "execution_count": null,
   "metadata": {},
   "outputs": [],
   "source": [
    "from time import time\n",
    "import os\n",
    "import json"
   ]
  },
  {
   "cell_type": "code",
   "execution_count": null,
   "metadata": {},
   "outputs": [],
   "source": [
    "## ISA-API related imports\n",
    "from isatools.model import Investigation, Study"
   ]
  },
  {
   "cell_type": "code",
   "execution_count": null,
   "metadata": {},
   "outputs": [],
   "source": [
    "## ISA-API create mode related imports\n",
    "from isatools.create.model import StudyDesign\n",
    "from isatools.create.connectors import generate_study_design\n",
    "\n",
    "# serializer from ISA Investigation to JSON\n",
    "from isatools.isajson import ISAJSONEncoder\n",
    "\n",
    "# ISA-Tab serialisation\n",
    "from isatools import isatab"
   ]
  },
  {
   "cell_type": "code",
   "execution_count": null,
   "metadata": {},
   "outputs": [],
   "source": [
    "## ISA-API create mode related imports\n",
    "from isatools.create import model\n",
    "from isatools import isajson"
   ]
  },
  {
   "cell_type": "markdown",
   "metadata": {},
   "source": [
    "## 2. Load the Study Design JSON configuration\n",
    "\n",
    "First of all we load the study design configurator with all the specs defined above"
   ]
  },
  {
   "cell_type": "code",
   "execution_count": null,
   "metadata": {},
   "outputs": [],
   "source": [
    "with open(os.path.abspath(os.path.join(\n",
    "    \"isa-study-design-as-json\", \"datascriptor\", \"crossover-study-human.json\"\n",
    ")), \"r\") as config_file:\n",
    "    study_design_config = json.load(config_file)"
   ]
  },
  {
   "cell_type": "markdown",
   "metadata": {},
   "source": [
    "## 3. Generate the ISA Study Design from the JSON configuration\n",
    "To perform the conversion we just need to use the function `generate_isa_study_design()` (name possibly subject to change, should we drop the \"isa\" and \"datascriptor\" qualifiers?)"
   ]
  },
  {
   "cell_type": "code",
   "execution_count": null,
   "metadata": {},
   "outputs": [],
   "source": [
    "study_design = generate_study_design(study_design_config)\n",
    "assert isinstance(study_design, StudyDesign)"
   ]
  },
  {
   "cell_type": "markdown",
   "metadata": {},
   "source": [
    "## 4. Generate the ISA Study from the StudyDesign and embed it into an ISA Investigation\n",
    "\n",
    "The `StudyDesign.generate_isa_study()` method returns the complete ISA-API `Study` object."
   ]
  },
  {
   "cell_type": "code",
   "execution_count": null,
   "metadata": {},
   "outputs": [],
   "source": [
    "start = time()\n",
    "study = study_design.generate_isa_study()\n",
    "end = time()\n",
    "print('The generation of the study design took {:.2f} s.'.format(end - start))\n",
    "assert isinstance(study, Study)\n",
    "investigation = Investigation(identifier='inv01', studies=[study])"
   ]
  },
  {
   "cell_type": "markdown",
   "metadata": {},
   "source": [
    "## 5. Serialize and save the JSON representation of the generated ISA Investigation"
   ]
  },
  {
   "cell_type": "code",
   "execution_count": null,
   "metadata": {},
   "outputs": [],
   "source": [
    "start = time()\n",
    "inv_json = json.dumps(investigation, cls=ISAJSONEncoder, sort_keys=True, indent=4, separators=(',', ': '))\n",
    "end = time()\n",
    "print('The JSON serialisation of the ISA investigation took {:.2f} s.'.format(end - start))"
   ]
  },
  {
   "cell_type": "code",
   "execution_count": null,
   "metadata": {},
   "outputs": [],
   "source": [
    "directory = os.path.abspath(os.path.join('notebook-output/isa-study-from-design-config/', 'crossover-2-treatments-human'))\n",
    "os.makedirs(directory, exist_ok=True)\n",
    "with open(os.path.abspath(os.path.join(directory, 'isa-investigation-crossover-2-treatments-human.json')), 'w') as out_fp:\n",
    "    json.dump(json.loads(inv_json), out_fp)"
   ]
  },
  {
   "cell_type": "markdown",
   "metadata": {},
   "source": [
    "## 6. Dump the ISA Investigation to ISA-Tab"
   ]
  },
  {
   "cell_type": "code",
   "execution_count": null,
   "metadata": {},
   "outputs": [],
   "source": [
    "start = time()\n",
    "isatab.dump(investigation, directory)\n",
    "end = time()\n",
    "print('The Tab serialisation of the ISA investigation took {:.2f} s.'.format(end - start))"
   ]
  },
  {
   "cell_type": "markdown",
   "metadata": {},
   "source": [
    "To use them on the notebook we can also dump the tables to pandas DataFrames, using the `dump_tables_to_dataframes` function rather than dump"
   ]
  },
  {
   "cell_type": "code",
   "execution_count": null,
   "metadata": {},
   "outputs": [],
   "source": [
    "dataframes = isatab.dump_tables_to_dataframes(investigation)"
   ]
  },
  {
   "cell_type": "code",
   "execution_count": null,
   "metadata": {},
   "outputs": [],
   "source": [
    "len(dataframes)"
   ]
  },
  {
   "cell_type": "markdown",
   "metadata": {},
   "source": [
    "## 7. Check the correctness of the ISA-Tab DataFrames \n",
    "\n",
    "We have 1 study file and 2 assay files (one for MS and one for NMR). Let's check the names:"
   ]
  },
  {
   "cell_type": "code",
   "execution_count": null,
   "metadata": {},
   "outputs": [],
   "source": [
    "for key in dataframes.keys():\n",
    "    display(key)"
   ]
  },
  {
   "cell_type": "markdown",
   "metadata": {},
   "source": [
    "### 7.1 Count of subjects and samples\n",
    "\n",
    "We have 10 subjects in the each of the 4 arms for a total of 40 subjects.\n",
    "\n",
    "We collect:\n",
    "- 5 blood samples per subject (50 samples * 4 arms = 200 total samples)\n",
    "- 2 saliva samples per subject (20 samples * 4 arms = 80 total samples)\n",
    "\n",
    "Across the 4 study arms a total of 280 samples are collected (70 samples per arm)"
   ]
  },
  {
   "cell_type": "code",
   "execution_count": null,
   "metadata": {},
   "outputs": [],
   "source": [
    "study_frame = dataframes['s_study_01.txt']\n",
    "count_arm0_samples = len(study_frame[study_frame['Source Name'].apply(lambda el: 'GRP0' in el)])\n",
    "count_arm1_samples = len(study_frame[study_frame['Source Name'].apply(lambda el: 'GRP1' in el)])\n",
    "count_arm2_samples = len(study_frame[study_frame['Source Name'].apply(lambda el: 'GRP2' in el)])\n",
    "count_arm3_samples = len(study_frame[study_frame['Source Name'].apply(lambda el: 'GRP3' in el)])\n",
    "print(\"There are {} samples in the GRP0 arm (i.e. group)\".format(count_arm0_samples))\n",
    "print(\"There are {} samples in the GRP1 arm (i.e. group)\".format(count_arm1_samples))\n",
    "print(\"There are {} samples in the GRP2 arm (i.e. group)\".format(count_arm2_samples))\n",
    "print(\"There are {} samples in the GRP3 arm (i.e. group)\".format(count_arm3_samples))"
   ]
  },
  {
   "cell_type": "markdown",
   "metadata": {},
   "source": [
    "### 7.2 Study Table Overview\n",
    "\n",
    "The study table provides an overview of the subjects (sources) and samples"
   ]
  },
  {
   "cell_type": "code",
   "execution_count": null,
   "metadata": {},
   "outputs": [],
   "source": [
    "study_frame"
   ]
  },
  {
   "cell_type": "markdown",
   "metadata": {},
   "source": [
    "### 7.3 First Assay: DNA Methylation Profiling using nucleic acid sequencing\n",
    "\n",
    "This assay takes urine samples as input"
   ]
  },
  {
   "cell_type": "code",
   "execution_count": null,
   "metadata": {},
   "outputs": [],
   "source": [
    "dataframes['a_AT5_DNA-methylation-profiling_nucleic-acid-sequencing.txt']"
   ]
  },
  {
   "cell_type": "markdown",
   "metadata": {},
   "source": [
    "#### 7.3.1 Nucleic acid sequencing stats Stats\n",
    "\n",
    "For this assay we have 280 samples. 280 DNA extracts are extracted from the samples. The 280 extracts are subsequently labeled. For each labeled extract, 4 mass.spec analyses are run (using Agilent QTQF 6510, positive acquisition mode, 2 replicates each for LC and FIA injection mode), for a total of 1120 mass. spec. processes and 1120 raw spectral data files"
   ]
  },
  {
   "cell_type": "code",
   "execution_count": null,
   "metadata": {},
   "outputs": [],
   "source": [
    "dataframes['a_AT5_DNA-methylation-profiling_nucleic-acid-sequencing.txt'].nunique(axis=0, dropna=True)"
   ]
  },
  {
   "cell_type": "markdown",
   "metadata": {},
   "source": [
    "### 7.4 Second Assay: Clinical Chemistry Marker Panel\n",
    "\n",
    "This assay takes blood samples as input"
   ]
  },
  {
   "cell_type": "code",
   "execution_count": null,
   "metadata": {},
   "outputs": [],
   "source": [
    "dataframes['a_AT11_clinical-chemistry_marker-panel.txt']"
   ]
  },
  {
   "cell_type": "markdown",
   "metadata": {},
   "source": [
    "#### 7.4.1 Marker Panel Stats\n",
    "\n",
    "For this assay we use 320 blood samples. For each sample three chemical marker assays are run, producing a total of 960 sample preparation processes and 960 raw data files"
   ]
  },
  {
   "cell_type": "code",
   "execution_count": null,
   "metadata": {},
   "outputs": [],
   "source": [
    "dataframes['a_AT11_clinical-chemistry_marker-panel.txt'].nunique(axis=0, dropna=True)"
   ]
  }
 ],
 "metadata": {
  "kernelspec": {
   "display_name": "isa-api-py39",
   "language": "python",
   "name": "isa-api-py39"
  },
  "language_info": {
   "codemirror_mode": {
    "name": "ipython",
    "version": 3
   },
   "file_extension": ".py",
   "mimetype": "text/x-python",
   "name": "python",
   "nbconvert_exporter": "python",
   "pygments_lexer": "ipython3",
   "version": "3.9.0"
  }
 },
 "nbformat": 4,
 "nbformat_minor": 4
}
